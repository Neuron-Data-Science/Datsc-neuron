{
 "cells": [
  {
   "cell_type": "markdown",
   "metadata": {},
   "source": [
    "# Aprendizado Supervisionado - Naive Bayes\n",
    "\n",
    "Vamos falar um pouco sobre um algoritmo supervisionado de classificação que é dos mais simples, mas também dos mais utilizados. Estamos falando do algoritmo ```Naive Bayes```. \n",
    "\n",
    "Vamos relembrar rapidamente o que é um algoritmo supervisionado de classificação.\n",
    "\n",
    "Um algoritmo de aprendizado supervisionado é aquele que conta com um conjunto de preditores e variável resposta que são utilizados no treinamento de um modelo, isto é, tem sua utilidade quando os \"resultados\" estão disponíveis para um dado conjunto de \"variáveis explicativas\" do problema a ser solucionado. Esses \"resultados\" são importantes no momento em que o modelo está aprendendo como trabalhar com os dados. E o modelo é de classificação quando seu objetivo é separar os elementos em classes, binárias ou não. \n",
    "\n",
    "Pra ficar mais claro essa questão de aprendizado supervisionado e modelo de classificação, imagine o seguinte exemplo: \n",
    "\n",
    "```\n",
    "\n",
    "Suponha que Thiago, um jovem ávido por andar de skate, mora longe da pista de skate que mais gosta. Além disso, a pista  não é coberta. Portanto, nos dias de chuva ele não pode andar. Nos dias nublados, as vezes, fica receoso de chegar ao    skate park e estar chovendo. Entretanto, conseguimos seguir os passos de Thiago por alguns dias para entender um pouco   sobre sua rotina e seus dilemas para andar de skate dadas as condições do tempo na região próxima de sua casa. Os dados  coletados são os seguintes, seguidos do resultado, isto é, se Thiago conseguiu ou não andar de skate naqueles dias:\n",
    "\n",
    "```\n",
    "Dia | Vento | Nublado | Sol | Chuva | Resultado\n",
    ":--:|:-----:|:-------:|:---:|:-----:|----------\n",
    "1   |sim    |sim      |nao  |sim    |nao andou\n",
    "2   |nao    |sim      |nao  |nao    |andou\n",
    "3   |sim    |nao      |sim  |nao    |andou\n",
    "4   |nao    |sim      |nao  |nao    |andou\n",
    "5   |sim    |nao      |sim  |nao    |andou\n",
    "6   |nao    |sim      |nao  |sim    |nao andou\n",
    "7   |sim    |nao      |nao  |sim    |nao andou\n",
    "8   |nao    |sim      |nao  |sim    |nao andou\n",
    "9   |sim    |nao      |sim  |nao    |andou\n",
    "10  |nao    |nao      |nao  |nao    |andou\n",
    "\n",
    "O exemplo acima é uma clara situação onde poderíamos empregar um algoritmo de classificação, pois o que queremos é poder responder a pergunta: \"Thiago andou ou não de skate em um dado dia?\". Para respondermos a essa pergunta temos que avaliar as condições de tempo e informá-las ao nosso modelo, para que este possa treinar (aprender como relacionar as condições do tempo e o resultado, a partir dos dados da tabela acima) e então conseguir responder a novas questões baseado apenas nas características oferecidas como informação. Portanto, a tarefa do modelo é classificar um registro (com as diversas informações sobre tempo) quanto à duas classes: \"andou\" ou \"não andou\" de skate.\n"
   ]
  },
  {
   "cell_type": "markdown",
   "metadata": {},
   "source": [
    "## Algoritmo Naive Bayes\n",
    "\n",
    "O algoritmo Naive Bayes é um classificador probabilístico baseado no “Teorema de Bayes”, o qual foi criado por Thomas Bayes (1701 - 1761) para tentar provar a existência de Deus [curiosidade]. A seguir apresentamos a regra de Bayes onde o algoritmo baseia seu funcionamento.\n",
    "\n",
    "\\begin{equation}\n",
    "    p(b|a) = \\frac{p(a,b)}{p(a)}\n",
    "\\end{equation}\n",
    "\n",
    "que (pela lei da multiplicação de probabilidades) também pode ser escrita como:\n",
    "\n",
    "\\begin{equation}\n",
    "    p(b|a) = \\frac{p(a|b).p(b)}{p(a)}\n",
    "\\end{equation}\n",
    "\n",
    "Para mais informações sobre o Teorema de Bayes, [clique aqui](https://pt.wikipedia.org/wiki/Teorema_de_Bayes).\n",
    "\n",
    "É um algoritmo muito utilizado na área de Aprendizado de Máquina para categorizar/classificar textos baseado na frequência das palavras usadas, e assim podendo ser usado para identificar se determinado e-mail é um SPAM ou sobre qual assunto se refere determinado texto, por exemplo.\n",
    "\n",
    "Por ser muito simples e rápido, possui um desempenho relativamente maior do que outros classificadores. Além disso, o Naive Bayes só precisa de um pequeno número de dados de teste para concluir classificações com uma boa precisão.\n",
    "\n",
    "A principal característica do algoritmo, e também o motivo de receber “naive” (ingênuo) no nome, é que ele desconsidera completamente a correlação entre as variáveis. Ou seja, se o tempo, no exemplo da tabela acima, é dividido em \"sol\", \"nublado\", \"chuva\" ou \"vento\", o algoritmo não vai levar em consideração a correlação entre esses fatores, mas vai tratar cada um de forma independente.\n",
    "\n",
    "Se o problema for classificar um texto ou algo do gênero, o Naive Bayes é uma das melhores alternativas, mas se a correlação entre os fatores for extremamente importante, o Naive Bayes pode falhar na predição da nova informação.\n",
    "\n",
    "Dessa forma, temos que esse algoritmo é muito útil para \"análise de sentimentos\", \"filtragem de spam\", \"classificação/filtragem de textos\" e além disso, pode ser utilizado para previsões em tempo real, dada sua velocidade e a necessidade de poucos dados para realizar as classificações."
   ]
  },
  {
   "cell_type": "markdown",
   "metadata": {},
   "source": [
    "## Determinando probabilidades\n",
    "\n",
    "Para entender um pouco melhor como funciona o classificador, vamos a um exemplo rápido: Digamos que estamos trabalhando no diagnóstico de uma nova doença, e que fizemos testes em 100 pessoas distintas. Após coletarmos os dados e fazer as primeiras análises, descobrimos que 20 pessoas possuíam a doença (20%) e 80 pessoas estavam saudáveis (80%), sendo que das pessoas que possuíam a doença, 90% receberam Positivo no teste da doença, e 30% das pessoas que não possuíam a doença também receberam o teste positivo.\n",
    "\n",
    "Listando esses dados de uma forma mais clara, temos:\n",
    "- 100 pessoas realizaram o teste.\n",
    "- 20% das pessoas que realizaram o teste possuíam a doença.\n",
    "- 90% das pessoas que possuíam a doença, receberam positivo no teste.\n",
    "- 30% das pessoas que não possuíam a doença, receberam positivo no teste.\n",
    "\n",
    "A pergunta neste caso seria: se uma nova pessoa realizar o teste e receber um resultado positivo, qual a probabilidade de ela possuir a doença?\n",
    "\n",
    "O algoritmo Naive Bayes consiste em encontrar uma probabilidade a posteriori (possuir a doença, dado que recebeu um resultado positivo), multiplicando a probabilidade a priori (possuir a doença) pela probabilidade de “receber um resultado positivo, dado que tem a doença”.\n",
    "\n",
    "Devemos também calcular a probabilidade a posteriori da negação (Não possuir a doença, dado que recebeu um resultado Positivo). Ou seja:\n",
    "\n",
    "- P(doença|positivo) = 20% * 90%\n",
    "- P(doença|positivo) = 0,2 * 0,9\n",
    "- P(doença|positivo) = 0,18\n",
    "- P(não doença|positivo) = 80% * 30%\n",
    "- P(não doença|positivo) = 0,8 * 0,3\n",
    "- P(não doença|positivo) = 0,24\n",
    "\n",
    "Após isso precisamos normalizar os dados, para que a soma das duas probabilidades resulte em 1 (100%). Para isso, dividimos o resultado pela soma das duas probabilidades.\n",
    "\n",
    "Exemplo:\n",
    "- P(doença|positivo) = 0,18/(0,18+0,24) = 0,4285\n",
    "- P(não doença|positivo) = 0,24/(0,18+0,24) = 0,5714\n",
    "\n",
    "Dessa forma, podemos concluir que se o resultado do teste da nova pessoa for positivo, ela possui aproximadamente 57% de chance de não estar doente. "
   ]
  },
  {
   "cell_type": "markdown",
   "metadata": {},
   "source": [
    "## Exemplo\n",
    "\n",
    "Vamos ver na prática como esse negócio funciona. Para isso, vamos utilizar uma base de dados chamada **Iris**. Trata-se de um conjunto de dados muito conhecido e muito utilizado no aprendizado de modelos de classificação. Este BD se refere às flores Iris. Nele encontramos 150 registros de medidas de largura e comprimento de sépalas e pétalas das flores. Vou importar os dados aqui e mostrar a carinha deles para que fiquemos familiarizados."
   ]
  },
  {
   "cell_type": "code",
   "execution_count": 71,
   "metadata": {},
   "outputs": [],
   "source": [
    "from sklearn import datasets\n",
    "iris = datasets.load_iris()"
   ]
  },
  {
   "cell_type": "markdown",
   "metadata": {},
   "source": [
    "Abaixo são mostradas as medidas preditoras:"
   ]
  },
  {
   "cell_type": "code",
   "execution_count": 72,
   "metadata": {},
   "outputs": [
    {
     "data": {
      "text/plain": [
       "array([[5.1, 3.5, 1.4, 0.2],\n",
       "       [4.9, 3. , 1.4, 0.2],\n",
       "       [4.7, 3.2, 1.3, 0.2],\n",
       "       [4.6, 3.1, 1.5, 0.2],\n",
       "       [5. , 3.6, 1.4, 0.2],\n",
       "       [5.4, 3.9, 1.7, 0.4],\n",
       "       [4.6, 3.4, 1.4, 0.3],\n",
       "       [5. , 3.4, 1.5, 0.2],\n",
       "       [4.4, 2.9, 1.4, 0.2],\n",
       "       [4.9, 3.1, 1.5, 0.1],\n",
       "       [5.4, 3.7, 1.5, 0.2],\n",
       "       [4.8, 3.4, 1.6, 0.2],\n",
       "       [4.8, 3. , 1.4, 0.1],\n",
       "       [4.3, 3. , 1.1, 0.1],\n",
       "       [5.8, 4. , 1.2, 0.2],\n",
       "       [5.7, 4.4, 1.5, 0.4],\n",
       "       [5.4, 3.9, 1.3, 0.4],\n",
       "       [5.1, 3.5, 1.4, 0.3],\n",
       "       [5.7, 3.8, 1.7, 0.3],\n",
       "       [5.1, 3.8, 1.5, 0.3],\n",
       "       [5.4, 3.4, 1.7, 0.2],\n",
       "       [5.1, 3.7, 1.5, 0.4],\n",
       "       [4.6, 3.6, 1. , 0.2],\n",
       "       [5.1, 3.3, 1.7, 0.5],\n",
       "       [4.8, 3.4, 1.9, 0.2],\n",
       "       [5. , 3. , 1.6, 0.2],\n",
       "       [5. , 3.4, 1.6, 0.4],\n",
       "       [5.2, 3.5, 1.5, 0.2],\n",
       "       [5.2, 3.4, 1.4, 0.2],\n",
       "       [4.7, 3.2, 1.6, 0.2],\n",
       "       [4.8, 3.1, 1.6, 0.2],\n",
       "       [5.4, 3.4, 1.5, 0.4],\n",
       "       [5.2, 4.1, 1.5, 0.1],\n",
       "       [5.5, 4.2, 1.4, 0.2],\n",
       "       [4.9, 3.1, 1.5, 0.1],\n",
       "       [5. , 3.2, 1.2, 0.2],\n",
       "       [5.5, 3.5, 1.3, 0.2],\n",
       "       [4.9, 3.1, 1.5, 0.1],\n",
       "       [4.4, 3. , 1.3, 0.2],\n",
       "       [5.1, 3.4, 1.5, 0.2],\n",
       "       [5. , 3.5, 1.3, 0.3],\n",
       "       [4.5, 2.3, 1.3, 0.3],\n",
       "       [4.4, 3.2, 1.3, 0.2],\n",
       "       [5. , 3.5, 1.6, 0.6],\n",
       "       [5.1, 3.8, 1.9, 0.4],\n",
       "       [4.8, 3. , 1.4, 0.3],\n",
       "       [5.1, 3.8, 1.6, 0.2],\n",
       "       [4.6, 3.2, 1.4, 0.2],\n",
       "       [5.3, 3.7, 1.5, 0.2],\n",
       "       [5. , 3.3, 1.4, 0.2],\n",
       "       [7. , 3.2, 4.7, 1.4],\n",
       "       [6.4, 3.2, 4.5, 1.5],\n",
       "       [6.9, 3.1, 4.9, 1.5],\n",
       "       [5.5, 2.3, 4. , 1.3],\n",
       "       [6.5, 2.8, 4.6, 1.5],\n",
       "       [5.7, 2.8, 4.5, 1.3],\n",
       "       [6.3, 3.3, 4.7, 1.6],\n",
       "       [4.9, 2.4, 3.3, 1. ],\n",
       "       [6.6, 2.9, 4.6, 1.3],\n",
       "       [5.2, 2.7, 3.9, 1.4],\n",
       "       [5. , 2. , 3.5, 1. ],\n",
       "       [5.9, 3. , 4.2, 1.5],\n",
       "       [6. , 2.2, 4. , 1. ],\n",
       "       [6.1, 2.9, 4.7, 1.4],\n",
       "       [5.6, 2.9, 3.6, 1.3],\n",
       "       [6.7, 3.1, 4.4, 1.4],\n",
       "       [5.6, 3. , 4.5, 1.5],\n",
       "       [5.8, 2.7, 4.1, 1. ],\n",
       "       [6.2, 2.2, 4.5, 1.5],\n",
       "       [5.6, 2.5, 3.9, 1.1],\n",
       "       [5.9, 3.2, 4.8, 1.8],\n",
       "       [6.1, 2.8, 4. , 1.3],\n",
       "       [6.3, 2.5, 4.9, 1.5],\n",
       "       [6.1, 2.8, 4.7, 1.2],\n",
       "       [6.4, 2.9, 4.3, 1.3],\n",
       "       [6.6, 3. , 4.4, 1.4],\n",
       "       [6.8, 2.8, 4.8, 1.4],\n",
       "       [6.7, 3. , 5. , 1.7],\n",
       "       [6. , 2.9, 4.5, 1.5],\n",
       "       [5.7, 2.6, 3.5, 1. ],\n",
       "       [5.5, 2.4, 3.8, 1.1],\n",
       "       [5.5, 2.4, 3.7, 1. ],\n",
       "       [5.8, 2.7, 3.9, 1.2],\n",
       "       [6. , 2.7, 5.1, 1.6],\n",
       "       [5.4, 3. , 4.5, 1.5],\n",
       "       [6. , 3.4, 4.5, 1.6],\n",
       "       [6.7, 3.1, 4.7, 1.5],\n",
       "       [6.3, 2.3, 4.4, 1.3],\n",
       "       [5.6, 3. , 4.1, 1.3],\n",
       "       [5.5, 2.5, 4. , 1.3],\n",
       "       [5.5, 2.6, 4.4, 1.2],\n",
       "       [6.1, 3. , 4.6, 1.4],\n",
       "       [5.8, 2.6, 4. , 1.2],\n",
       "       [5. , 2.3, 3.3, 1. ],\n",
       "       [5.6, 2.7, 4.2, 1.3],\n",
       "       [5.7, 3. , 4.2, 1.2],\n",
       "       [5.7, 2.9, 4.2, 1.3],\n",
       "       [6.2, 2.9, 4.3, 1.3],\n",
       "       [5.1, 2.5, 3. , 1.1],\n",
       "       [5.7, 2.8, 4.1, 1.3],\n",
       "       [6.3, 3.3, 6. , 2.5],\n",
       "       [5.8, 2.7, 5.1, 1.9],\n",
       "       [7.1, 3. , 5.9, 2.1],\n",
       "       [6.3, 2.9, 5.6, 1.8],\n",
       "       [6.5, 3. , 5.8, 2.2],\n",
       "       [7.6, 3. , 6.6, 2.1],\n",
       "       [4.9, 2.5, 4.5, 1.7],\n",
       "       [7.3, 2.9, 6.3, 1.8],\n",
       "       [6.7, 2.5, 5.8, 1.8],\n",
       "       [7.2, 3.6, 6.1, 2.5],\n",
       "       [6.5, 3.2, 5.1, 2. ],\n",
       "       [6.4, 2.7, 5.3, 1.9],\n",
       "       [6.8, 3. , 5.5, 2.1],\n",
       "       [5.7, 2.5, 5. , 2. ],\n",
       "       [5.8, 2.8, 5.1, 2.4],\n",
       "       [6.4, 3.2, 5.3, 2.3],\n",
       "       [6.5, 3. , 5.5, 1.8],\n",
       "       [7.7, 3.8, 6.7, 2.2],\n",
       "       [7.7, 2.6, 6.9, 2.3],\n",
       "       [6. , 2.2, 5. , 1.5],\n",
       "       [6.9, 3.2, 5.7, 2.3],\n",
       "       [5.6, 2.8, 4.9, 2. ],\n",
       "       [7.7, 2.8, 6.7, 2. ],\n",
       "       [6.3, 2.7, 4.9, 1.8],\n",
       "       [6.7, 3.3, 5.7, 2.1],\n",
       "       [7.2, 3.2, 6. , 1.8],\n",
       "       [6.2, 2.8, 4.8, 1.8],\n",
       "       [6.1, 3. , 4.9, 1.8],\n",
       "       [6.4, 2.8, 5.6, 2.1],\n",
       "       [7.2, 3. , 5.8, 1.6],\n",
       "       [7.4, 2.8, 6.1, 1.9],\n",
       "       [7.9, 3.8, 6.4, 2. ],\n",
       "       [6.4, 2.8, 5.6, 2.2],\n",
       "       [6.3, 2.8, 5.1, 1.5],\n",
       "       [6.1, 2.6, 5.6, 1.4],\n",
       "       [7.7, 3. , 6.1, 2.3],\n",
       "       [6.3, 3.4, 5.6, 2.4],\n",
       "       [6.4, 3.1, 5.5, 1.8],\n",
       "       [6. , 3. , 4.8, 1.8],\n",
       "       [6.9, 3.1, 5.4, 2.1],\n",
       "       [6.7, 3.1, 5.6, 2.4],\n",
       "       [6.9, 3.1, 5.1, 2.3],\n",
       "       [5.8, 2.7, 5.1, 1.9],\n",
       "       [6.8, 3.2, 5.9, 2.3],\n",
       "       [6.7, 3.3, 5.7, 2.5],\n",
       "       [6.7, 3. , 5.2, 2.3],\n",
       "       [6.3, 2.5, 5. , 1.9],\n",
       "       [6.5, 3. , 5.2, 2. ],\n",
       "       [6.2, 3.4, 5.4, 2.3],\n",
       "       [5.9, 3. , 5.1, 1.8]])"
      ]
     },
     "execution_count": 72,
     "metadata": {},
     "output_type": "execute_result"
    }
   ],
   "source": [
    "iris.data"
   ]
  },
  {
   "cell_type": "markdown",
   "metadata": {},
   "source": [
    "Abaixo é mostrada a variável *target*:"
   ]
  },
  {
   "cell_type": "code",
   "execution_count": 75,
   "metadata": {},
   "outputs": [
    {
     "data": {
      "text/plain": [
       "array([0, 0, 0, 0, 0, 0, 0, 0, 0, 0, 0, 0, 0, 0, 0, 0, 0, 0, 0, 0, 0, 0,\n",
       "       0, 0, 0, 0, 0, 0, 0, 0, 0, 0, 0, 0, 0, 0, 0, 0, 0, 0, 0, 0, 0, 0,\n",
       "       0, 0, 0, 0, 0, 0, 1, 1, 1, 1, 1, 1, 1, 1, 1, 1, 1, 1, 1, 1, 1, 1,\n",
       "       1, 1, 1, 1, 1, 1, 1, 1, 1, 1, 1, 1, 1, 1, 1, 1, 1, 1, 1, 1, 1, 1,\n",
       "       1, 1, 1, 1, 1, 1, 1, 1, 1, 1, 1, 1, 2, 2, 2, 2, 2, 2, 2, 2, 2, 2,\n",
       "       2, 2, 2, 2, 2, 2, 2, 2, 2, 2, 2, 2, 2, 2, 2, 2, 2, 2, 2, 2, 2, 2,\n",
       "       2, 2, 2, 2, 2, 2, 2, 2, 2, 2, 2, 2, 2, 2, 2, 2, 2, 2])"
      ]
     },
     "execution_count": 75,
     "metadata": {},
     "output_type": "execute_result"
    }
   ],
   "source": [
    "iris.target"
   ]
  },
  {
   "cell_type": "markdown",
   "metadata": {},
   "source": [
    "Pra ficarmos mais familiarizados com essa base de dados, vamos usar o comando 'shape' para saber quantas linhas e colunas têm esses arquivos."
   ]
  },
  {
   "cell_type": "code",
   "execution_count": 52,
   "metadata": {},
   "outputs": [
    {
     "data": {
      "text/plain": [
       "((150, 4), (150,))"
      ]
     },
     "execution_count": 52,
     "metadata": {},
     "output_type": "execute_result"
    }
   ],
   "source": [
    "iris.data.shape, iris.target.shape"
   ]
  },
  {
   "cell_type": "markdown",
   "metadata": {},
   "source": [
    "Podemos observar que temos 150 registros de dados e 4 atributos e como classes temos apenas um vetor de 150 posições relativos a classe de cada instância, ou seja, nossa variável target é um vetor com 150 entradas.\n",
    "\n",
    "Seguindo com nosso exemplo, vamos dividir nosso conjunto de dados acima em duas partes: uma amostra para treinamento do modelo e outra para o teste do modelo. Para isso, vamos utilizar o método ```train_test_split``` disponível na biblioteca ```scikit-learn``` por meio do módulo ```model_selection```."
   ]
  },
  {
   "cell_type": "code",
   "execution_count": 53,
   "metadata": {},
   "outputs": [],
   "source": [
    "X_train, X_test, y_train, y_test = train_test_split (iris.data, iris.target, test_size=0.4, random_state=0)"
   ]
  },
  {
   "cell_type": "markdown",
   "metadata": {},
   "source": [
    "Observe que estamos dividindo os dados em uma porcentagem de 40% para teste e 60% para treinamento, através do parâmetro test_size. Os dados de treino são armazenados nas variáveis X_train e y_train. Já os dados de teste são armazenados nas variáveis X_test e y_teste.\n",
    "\n",
    "A seguir continuamos nosso exemplo com a construção de um modelo baseado no algoritmo Naive Bayes, sob o método multinomial. \n",
    "\n",
    "Lembre que nossa ideia é criar um modelo que deve aprender como classificar os registros de flores Iris, de acordo com as medidas das folhas em três grupos: setosa, versicolor e virginica."
   ]
  },
  {
   "cell_type": "code",
   "execution_count": 58,
   "metadata": {},
   "outputs": [],
   "source": [
    "from sklearn.naive_bayes import GaussianNB"
   ]
  },
  {
   "cell_type": "markdown",
   "metadata": {},
   "source": [
    "Construção e treinamento do modelo:"
   ]
  },
  {
   "cell_type": "code",
   "execution_count": 76,
   "metadata": {},
   "outputs": [
    {
     "data": {
      "text/plain": [
       "MultinomialNB(alpha=1.0, class_prior=None, fit_prior=True)"
      ]
     },
     "execution_count": 76,
     "metadata": {},
     "output_type": "execute_result"
    }
   ],
   "source": [
    "modelo = MultinomialNB()\n",
    "modelo.fit(X_train, y_train)"
   ]
  },
  {
   "cell_type": "markdown",
   "metadata": {},
   "source": [
    "Fazendo a previsão dos registros da amostra de teste, para posterior comparação com a variável resposta (y_test):"
   ]
  },
  {
   "cell_type": "code",
   "execution_count": 60,
   "metadata": {},
   "outputs": [
    {
     "name": "stdout",
     "output_type": "stream",
     "text": [
      "[2 1 0 2 0 2 0 1 1 1 2 1 1 1 2 0 2 2 0 0 2 2 0 0 2 0 0 1 1 0 2 2 0 2 2 2 0\n",
      " 2 1 1 2 0 2 0 0 1 2 2 2 2 1 2 1 1 2 2 2 2 1 2]\n"
     ]
    }
   ],
   "source": [
    "preditos = modelo.predict(X_test)\n",
    "print(preditos)"
   ]
  },
  {
   "cell_type": "markdown",
   "metadata": {},
   "source": [
    "Por fim, calculando a taxa de acerto do modelo."
   ]
  },
  {
   "cell_type": "code",
   "execution_count": 78,
   "metadata": {},
   "outputs": [
    {
     "name": "stdout",
     "output_type": "stream",
     "text": [
      "88.33333333333333\n"
     ]
    }
   ],
   "source": [
    "dif = preditos - y_test\n",
    "acertos = [i for i in dif if i == 0]\n",
    "total_acertos = len(acertos)\n",
    "total_elementos = len(y_test)\n",
    "taxa_acertos = total_acertos / total_elementos \n",
    "print(taxa_acertos*100) "
   ]
  },
  {
   "cell_type": "markdown",
   "metadata": {},
   "source": [
    "Conforme observado na célula acima, o modelo que criamos nesta aula teve uma taxa de acerto de 88%. \n",
    "\n",
    "Acho que dessa forma chegamos ao nosso objetivo com essa aula: dar uma introdução ao algoritmo Naive Bayes e mostrar algum exemplo de aplicação. \n",
    "\n",
    "Para aprofundar no assunto, sugiro muito a página da biblioteca [Scikit-Learn](http://scikit-learn.org/stable/)."
   ]
  },
  {
   "cell_type": "code",
   "execution_count": null,
   "metadata": {},
   "outputs": [],
   "source": []
  }
 ],
 "metadata": {
  "kernelspec": {
   "display_name": "Python 3",
   "language": "python",
   "name": "python3"
  },
  "language_info": {
   "codemirror_mode": {
    "name": "ipython",
    "version": 3
   },
   "file_extension": ".py",
   "mimetype": "text/x-python",
   "name": "python",
   "nbconvert_exporter": "python",
   "pygments_lexer": "ipython3",
   "version": "3.6.5"
  }
 },
 "nbformat": 4,
 "nbformat_minor": 2
}
