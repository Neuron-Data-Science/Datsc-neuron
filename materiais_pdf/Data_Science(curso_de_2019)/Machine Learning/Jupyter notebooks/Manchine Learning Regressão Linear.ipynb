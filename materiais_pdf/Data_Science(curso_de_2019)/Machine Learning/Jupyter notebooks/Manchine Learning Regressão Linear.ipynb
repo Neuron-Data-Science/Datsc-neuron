{
 "cells": [
  {
   "cell_type": "markdown",
   "metadata": {},
   "source": [
    "# Regressão Linear\n",
    "\n",
    "## Leia antes de rodar o Jupyter Notebook\n",
    "\n",
    "\n",
    "A parte teórica deste modelo se encontra na apostila. Aqui abordaremos o assunto de uma maneira muito mais simples.\n",
    "\n",
    "Na prática, a técnica de regressão linear é utilizada para se estimar valores resposta dado algumas variáveis de entrada. Por exemplo, vamos imaginar o consumo de combustível de um carro levando em conta seu histórico de consumo. Suponha que a cada vez que você sai com seu carro, você anota quantos quilômetros andou e o consumo de combustível para esse percurso. Leve em conta que os percursos feitos foram em média de 20km. Certo dia você planeja uma viagem um pouco mais longa que o comum, 50km, e deseja saber aproximadamente quantos litros de gasolina irá consumir para este percurso. Com a regressão linear, este tipo de predição é possivel prever o quanto que será consumido com base no histórico. Imagine que em todos os dados anotados, nenhum dos seus percursos deu 15km e você deseja saber qual seria seu consumo para esta distância.\n",
    "\n",
    "Com este exemplo em mente vamos seguir para codificação, como de costume vamos importar inicialmente as bibliotecas que iremos usar."
   ]
  },
  {
   "cell_type": "code",
   "execution_count": 2,
   "metadata": {},
   "outputs": [],
   "source": [
    "import numpy as np\n",
    "import pandas as pd\n",
    "from sklearn import linear_model\n",
    "import matplotlib.pyplot as plt\n",
    "from sklearn.model_selection import train_test_split\n",
    "import random\n",
    "random.seed(1234)"
   ]
  },
  {
   "cell_type": "markdown",
   "metadata": {},
   "source": [
    "Desta vez não utilizaremos um dadaset pronto: iremos criar nossos próprios dados para a análise. Teremos 70 números para ser nossa variável input X, que representa o número de quilômetros andados, e 70 valores para ser nossa variável output Y, que será o consumo de combustivel do automóvel (estamos formando pares ordenados). Abaixo temos um dataset gerado de forma aleatória para induzir o método de forma eficiente. O X é gerado por uma distribuição uniforme e o Y através de uma função linear padrão mais um erro criado segundo uma distribubição Normal."
   ]
  },
  {
   "cell_type": "markdown",
   "metadata": {},
   "source": [
    "### Atenção nao rode a cedula novamente sem antes ler tudo, ela implica no resultado uma vez que os numeros estao distribuidos de forma aleatoria"
   ]
  },
  {
   "cell_type": "code",
   "execution_count": 37,
   "metadata": {},
   "outputs": [
    {
     "data": {
      "image/png": "[encoded data removed]",
      "text/plain": [
       "<Figure size 432x288 with 1 Axes>"
      ]
     },
     "metadata": {},
     "output_type": "display_data"
    }
   ],
   "source": [
    "#x\n",
    "ux = 20\n",
    "varx = 2\n",
    "x=np.empty(70)#criando array para alocar os numeros\n",
    "for i in range(0,70):\n",
    "    x[i]=round(random.uniform(15,25),1)# iremos arredondar os numero para 1 casa decimal\n",
    "\n",
    "#y\n",
    "e = np.empty(70)\n",
    "for i in range(0,70):\n",
    "    e[i]= round(random.gauss(0,3),1)\n",
    "\n",
    "y= 0.2*random.uniform(1,4)+3*x+e\n",
    "#plotando para visualizar os dados\n",
    "plt.plot( x, y, 'go')\n",
    "plt.show()"
   ]
  },
  {
   "cell_type": "markdown",
   "metadata": {},
   "source": [
    "Agora com os dados criados, vamos manipulá-los para deixar no formato mais fácil de trabalhar."
   ]
  },
  {
   "cell_type": "code",
   "execution_count": 38,
   "metadata": {},
   "outputs": [
    {
     "data": {
      "text/plain": [
       "array([[17.        , 54.94253043],\n",
       "       [15.3       , 49.34253043],\n",
       "       [23.2       , 69.44253043],\n",
       "       [21.4       , 71.04253043],\n",
       "       [15.9       , 49.74253043],\n",
       "       [23.8       , 68.84253043],\n",
       "       [19.4       , 57.84253043],\n",
       "       [19.2       , 54.24253043],\n",
       "       [17.7       , 50.94253043],\n",
       "       [20.8       , 59.14253043],\n",
       "       [16.8       , 48.24253043],\n",
       "       [17.9       , 48.54253043],\n",
       "       [23.5       , 80.84253043],\n",
       "       [20.3       , 58.14253043],\n",
       "       [24.1       , 71.94253043],\n",
       "       [22.8       , 68.74253043],\n",
       "       [21.1       , 63.04253043],\n",
       "       [16.        , 48.94253043],\n",
       "       [20.8       , 59.24253043],\n",
       "       [19.6       , 59.94253043],\n",
       "       [18.3       , 56.14253043],\n",
       "       [18.        , 54.44253043],\n",
       "       [22.8       , 68.94253043],\n",
       "       [22.9       , 66.14253043],\n",
       "       [17.9       , 55.84253043],\n",
       "       [22.8       , 75.64253043],\n",
       "       [16.5       , 49.14253043],\n",
       "       [16.8       , 52.34253043],\n",
       "       [15.4       , 47.74253043],\n",
       "       [21.4       , 65.04253043],\n",
       "       [23.2       , 70.24253043],\n",
       "       [15.4       , 48.94253043],\n",
       "       [24.3       , 75.04253043],\n",
       "       [18.4       , 55.34253043],\n",
       "       [16.9       , 50.94253043],\n",
       "       [18.5       , 56.44253043],\n",
       "       [23.1       , 74.34253043],\n",
       "       [16.        , 44.94253043],\n",
       "       [23.5       , 74.04253043],\n",
       "       [20.6       , 65.44253043],\n",
       "       [24.6       , 68.34253043],\n",
       "       [22.5       , 68.24253043],\n",
       "       [23.7       , 73.74253043],\n",
       "       [19.5       , 51.94253043],\n",
       "       [18.        , 51.74253043],\n",
       "       [20.8       , 63.34253043],\n",
       "       [21.1       , 59.74253043],\n",
       "       [20.9       , 61.14253043],\n",
       "       [17.1       , 52.54253043],\n",
       "       [21.1       , 66.14253043],\n",
       "       [15.2       , 44.84253043],\n",
       "       [16.3       , 47.94253043],\n",
       "       [20.        , 59.54253043],\n",
       "       [19.3       , 54.94253043],\n",
       "       [15.        , 42.84253043],\n",
       "       [20.9       , 62.64253043],\n",
       "       [24.5       , 72.44253043],\n",
       "       [17.1       , 52.64253043],\n",
       "       [21.5       , 58.54253043],\n",
       "       [18.3       , 52.34253043],\n",
       "       [21.4       , 63.74253043],\n",
       "       [23.6       , 75.04253043],\n",
       "       [23.6       , 67.34253043],\n",
       "       [21.4       , 66.94253043],\n",
       "       [19.1       , 57.04253043],\n",
       "       [19.6       , 56.04253043],\n",
       "       [22.7       , 66.34253043],\n",
       "       [15.6       , 45.94253043],\n",
       "       [21.4       , 62.14253043],\n",
       "       [21.3       , 68.04253043]])"
      ]
     },
     "execution_count": 38,
     "metadata": {},
     "output_type": "execute_result"
    }
   ],
   "source": [
    "dataset = np.empty([70,2])# dataset com 70 linhas e 2 colunas\n",
    "\n",
    "dataset[:,0]=x\n",
    "dataset[:,1]=y\n",
    "dataset"
   ]
  },
  {
   "cell_type": "markdown",
   "metadata": {},
   "source": [
    "Com nossos dados criados e manipulados corretamente, podemos dividí-los em conjuntos de teste e treino. Como o nome já diz, o grupo de treino é utilizado para criar nosso modelo com base nos dados que temos. Perceba que agora em modelos de aprendizado supervisionado, já temos respostas semelhantes às que buscamos para aprender, diferentemente dos modelos de não supervisionados, que não sabemos o resultado \"ideal\" para as predições na base de treino. O grupo de teste, por sua vez, é utilizado para podermos verificar se o modelo está funcionando e predizendo de forma correta dados nunca antes vistos. Para isso usamos dados dos quais já sabemos quais respostas esperar. Para fazer esta separação vamos utilizar uma função do sklearn para facilitar, sendo que esta função já nos provê os dados de maneira embaralhada e separada proporcialmente."
   ]
  },
  {
   "cell_type": "code",
   "execution_count": 39,
   "metadata": {},
   "outputs": [],
   "source": [
    "X_train, X_test, y_train, y_test = train_test_split(dataset[:,0],dataset[:,1], test_size=0.10,random_state=50)  "
   ]
  },
  {
   "cell_type": "markdown",
   "metadata": {},
   "source": [
    "Podemos então chamar nosso modelo e treiná-lo"
   ]
  },
  {
   "cell_type": "code",
   "execution_count": 40,
   "metadata": {},
   "outputs": [
    {
     "data": {
      "text/plain": [
       "LinearRegression(copy_X=True, fit_intercept=True, n_jobs=1, normalize=False)"
      ]
     },
     "execution_count": 40,
     "metadata": {},
     "output_type": "execute_result"
    }
   ],
   "source": [
    "regressao = linear_model.LinearRegression()\n",
    "  \n",
    "# treinamos o modelo usando os dados de treinamento\n",
    "X_train= X_train.reshape(-1,1)\n",
    "y_train= y_train.reshape(-1,1)\n",
    "regressao.fit(X_train, y_train)"
   ]
  },
  {
   "cell_type": "markdown",
   "metadata": {},
   "source": [
    "Agora vemos a fração que nosso modelo entende da variabilidade dos dados, o R², e neste caso 57%."
   ]
  },
  {
   "cell_type": "code",
   "execution_count": 41,
   "metadata": {},
   "outputs": [
    {
     "data": {
      "text/plain": [
       "0.917515935079582"
      ]
     },
     "execution_count": 41,
     "metadata": {},
     "output_type": "execute_result"
    }
   ],
   "source": [
    "X_test= X_test.reshape(-1,1)\n",
    "y_test= y_test.reshape(-1,1)\n",
    "regressao.score(X_test, y_test)"
   ]
  },
  {
   "cell_type": "markdown",
   "metadata": {},
   "source": [
    "Ainda para testar a qualidade do método, vemos o erro quadrático médio. Lembrando que buscamos sempre um resultado perto do 0 nesse caso."
   ]
  },
  {
   "cell_type": "code",
   "execution_count": 42,
   "metadata": {},
   "outputs": [
    {
     "data": {
      "text/plain": [
       "8.232111680849378"
      ]
     },
     "execution_count": 42,
     "metadata": {},
     "output_type": "execute_result"
    }
   ],
   "source": [
    "np.mean((regressao.predict(X_test) - y_test) ** 2)"
   ]
  },
  {
   "cell_type": "markdown",
   "metadata": {},
   "source": [
    "Por fim, plotamos o resultado para entender visualizar melhor o resultado."
   ]
  },
  {
   "cell_type": "code",
   "execution_count": 43,
   "metadata": {},
   "outputs": [
    {
     "data": {
      "image/png": "[encoded data removed]",
      "text/plain": [
       "<Figure size 432x288 with 1 Axes>"
      ]
     },
     "metadata": {},
     "output_type": "display_data"
    }
   ],
   "source": [
    "plt.plot(x, y,'go')\n",
    "plt.plot(X_test, regressao.predict(X_test), color='blue', linewidth=3)\n",
    "plt.plot(X_test, regressao.predict(X_test),'r^')\n",
    "\n",
    "  \n",
    "plt.show()"
   ]
  },
  {
   "cell_type": "code",
   "execution_count": null,
   "metadata": {
    "collapsed": true
   },
   "outputs": [],
   "source": []
  }
 ],
 "metadata": {
  "kernelspec": {
   "display_name": "Python 3",
   "language": "python",
   "name": "python3"
  },
  "language_info": {
   "codemirror_mode": {
    "name": "ipython",
    "version": 3
   },
   "file_extension": ".py",
   "mimetype": "text/x-python",
   "name": "python",
   "nbconvert_exporter": "python",
   "pygments_lexer": "ipython3",
   "version": "3.6.5"
  }
 },
 "nbformat": 4,
 "nbformat_minor": 2
}
