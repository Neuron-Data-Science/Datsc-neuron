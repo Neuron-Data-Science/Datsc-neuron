{
 "cells": [
  {
   "cell_type": "markdown",
   "metadata": {},
   "source": [
    "<h1> Variáveis </h1>\n",
    "\n",
    "Uma variável é um nome qualquer atribuído à uma posição da memória cujo espaço é reservado a um determinado conjunto de dados. Ou seja, é um local onde registraremos informações que serão utilizadas posteriormente. No python, a sua declaração se dá da seguinte maneira:\n",
    "\n",
    "var = value\n",
    "\n",
    "Sendo, neste caso, var o nome da variável e value a informação atribuída a posição da memória que apelidamos de “var”. Seguem alguns exemplos de variáveis declaradas:"
   ]
  },
  {
   "cell_type": "code",
   "execution_count": 12,
   "metadata": {},
   "outputs": [],
   "source": [
    "num = 12\n",
    "nf = 12.2\n",
    "w = \"world\""
   ]
  },
  {
   "cell_type": "markdown",
   "metadata": {},
   "source": [
    "O nome atribuído à uma variável é arbitrário, desde que esteja de acordo com as regras abaixo:\n",
    "    • A primeira letra da variável deve ser uma letra ou uma underline\n",
    "    • Não pode haver espaços em seu nome.\n",
    "    • Elas são “case sensitive”. Ou seja, há distinção entre letras maiúsculas e minúsculas. Se declarada como aux, não pode ser referenciada como Aux ou qualquer outra distorção do gênero."
   ]
  },
  {
   "cell_type": "code",
   "execution_count": 13,
   "metadata": {},
   "outputs": [
    {
     "ename": "SyntaxError",
     "evalue": "invalid syntax (<ipython-input-13-a723d88cc67b>, line 3)",
     "output_type": "error",
     "traceback": [
      "\u001b[0;36m  File \u001b[0;32m\"<ipython-input-13-a723d88cc67b>\"\u001b[0;36m, line \u001b[0;32m3\u001b[0m\n\u001b[0;31m    0name = \"Neuron\"\u001b[0m\n\u001b[0m        ^\u001b[0m\n\u001b[0;31mSyntaxError\u001b[0m\u001b[0;31m:\u001b[0m invalid syntax\n"
     ]
    }
   ],
   "source": [
    "#Se tentarmos nomeá-la de alguma forma que não esteja de acordo com as especificações acima, o interpretador não\n",
    "#será capaz de entender o código.\n",
    "0name = \"Neuron\" \n"
   ]
  },
  {
   "cell_type": "markdown",
   "metadata": {},
   "source": [
    "De maneira geral, as variáveis são dividas em strings, integers e floats.  Essa divisão ocorre em virtude da natureza dos dados que serão registrados na memória. Strings são variáveis que reúnem sequências de caracteres, integers números pertencentes ao conjunto dos inteiros e floats números pertencentes ao conjunto dos reais. Como pode ser percebido nos exemplos acima, o tipo das variáveis , no python, é definido de maneira implícita, sem necessidade de referenciar o seu tipo no momento em que a variável é declarada."
   ]
  },
  {
   "cell_type": "code",
   "execution_count": null,
   "metadata": {},
   "outputs": [],
   "source": [
    "lab = \"neuron\"\n",
    "an = 1\n",
    "anb = 1.2\n",
    "\n",
    "print(type(lab))\n",
    "print(type(an))\n",
    "print(type(anb))"
   ]
  },
  {
   "cell_type": "markdown",
   "metadata": {},
   "source": [
    "As variáveis podem ser criadas de duas maneiras, definindo-as diretamente - como nos exemplos acima - ou pegando-as como retorno de uma função. Vamos empregar esse segundo método tomando a função input() - que tem como finalidade registrar informações submetidas pelo usuário - como exemplo:"
   ]
  },
  {
   "cell_type": "code",
   "execution_count": null,
   "metadata": {},
   "outputs": [],
   "source": [
    "x = input(\"Digite o seu nome: \")\n",
    "print(\"O valor digitado foi {} e o seu tipo é {}.\".format(x, type(x)))"
   ]
  },
  {
   "cell_type": "markdown",
   "metadata": {},
   "source": [
    "Além disso, é possível transformar o tipo da variável por meio de funções. Por exemplo:"
   ]
  },
  {
   "cell_type": "code",
   "execution_count": null,
   "metadata": {},
   "outputs": [],
   "source": [
    "idade = input(\"Digite a sua idade: \")\n",
    "print(type(idade))\n",
    "print(type(int(idade))) # A transformação ocorre através da função int()"
   ]
  },
  {
   "cell_type": "markdown",
   "metadata": {},
   "source": [
    "Por fim, é importante ter em mente que os nomes dados às variáveis devem ser intuitivos, tendo uma relação com a informação em que registrará. Por exemplo, se a variável armazenará um nome, faz mais sentido chamá-la de “nome” em vez de variavel1."
   ]
  },
  {
   "cell_type": "markdown",
   "metadata": {},
   "source": [
    "<h1> Exercícios </h1>\n",
    "\n",
    "#### 1 - Crie um programa que pergunte ao usuário o seu nome, armazene-o em uma variável e o imprima na tela. Dica: use a função input() para coletar a entrada de dados."
   ]
  },
  {
   "cell_type": "code",
   "execution_count": null,
   "metadata": {},
   "outputs": [],
   "source": []
  }
 ],
 "metadata": {
  "kernelspec": {
   "display_name": "Python 3",
   "language": "python",
   "name": "python3"
  },
  "language_info": {
   "codemirror_mode": {
    "name": "ipython",
    "version": 3
   },
   "file_extension": ".py",
   "mimetype": "text/x-python",
   "name": "python",
   "nbconvert_exporter": "python",
   "pygments_lexer": "ipython3",
   "version": "3.6.5"
  }
 },
 "nbformat": 4,
 "nbformat_minor": 2
}
