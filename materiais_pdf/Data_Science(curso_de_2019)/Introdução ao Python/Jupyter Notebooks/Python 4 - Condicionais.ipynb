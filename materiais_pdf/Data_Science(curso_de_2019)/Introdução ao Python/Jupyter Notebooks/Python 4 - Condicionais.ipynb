{
 "cells": [
  {
   "cell_type": "markdown",
   "metadata": {},
   "source": [
    "<h1>Condicionais</h1>\n",
    "\n",
    "Um aspecto intrínseco ao desenvolvimento de softwares é o processo decisório. No python, este processo se dá por meio da avaliação de expressões booleanas(expressões cujo resultado é TRUE ou FALSE). Ou seja, em determinada situação, se a expressão booleana der true, o programa seguirá um caminho, caso dê false, seguirá outro. A estrutura decisória é apresentada da seguinte forma:\n",
    "\n",
    "se uma expressão for verdadeira: <br>\n",
    "    <executará um bloco de código> <br>\n",
    "se outra expressão for verdadeira:<br>\n",
    "    <executará um outro bloco><br>\n",
    "senão:<br>\n",
    "    <executará um bloco de código><br>\n",
    "    \n",
    "Segue alguns exemplos para ilustrar o funcionamento das condições:"
   ]
  },
  {
   "cell_type": "code",
   "execution_count": 1,
   "metadata": {},
   "outputs": [
    {
     "name": "stdout",
     "output_type": "stream",
     "text": [
      "Condição verdadeira\n"
     ]
    }
   ],
   "source": [
    "a = 10\n",
    "\n",
    "if(a<=10): #se a for menor ou igual a 10, o bloco de código identado abaixo será executado.\n",
    "    print(\"Condição verdadeira\")"
   ]
  },
  {
   "cell_type": "code",
   "execution_count": 2,
   "metadata": {
    "collapsed": true
   },
   "outputs": [],
   "source": [
    "a = 30\n",
    "b = 20\n",
    "\n",
    "if(a<b): #se a for menor que b, o bloco de código identado abaixo será executado.\n",
    "    print(\"Condição verdadeira.\")"
   ]
  },
  {
   "cell_type": "markdown",
   "metadata": {},
   "source": [
    "No exemplo acima, não haverá a impressão da frase \"Condição verdadeira\" em virtude da condição necessária para a sua execução não ser cumprida."
   ]
  },
  {
   "cell_type": "code",
   "execution_count": 7,
   "metadata": {},
   "outputs": [
    {
     "name": "stdout",
     "output_type": "stream",
     "text": [
      "Digite um número:10\n",
      "Digite outro número:1\n",
      "Os números digitados não são iguais.\n"
     ]
    }
   ],
   "source": [
    "a = int(input(\"Digite um número:\")) #A função input registra um valor digitado pelo usuário.\n",
    "b = int(input(\"Digite outro número:\"))\n",
    "\n",
    "if a<b:\n",
    "    print(\"{} é menor do que {}\".format(a,b))\n",
    "elif a==b:\n",
    "    print(\"O número {} é igual a {}\".format(a,b))\n",
    "else: #se nenhuma das condições acimas forem atendidas, o bloco de código abaixo será executado\n",
    "    print(\"Os números digitados não são iguais.\")"
   ]
  },
  {
   "cell_type": "markdown",
   "metadata": {},
   "source": [
    "Vale ressalvar que somente um bloco dos elencados no if será executado, no caso, o primeiro que se adequar à condição imposta, por exemplo:"
   ]
  },
  {
   "cell_type": "code",
   "execution_count": 4,
   "metadata": {},
   "outputs": [
    {
     "name": "stdout",
     "output_type": "stream",
     "text": [
      "O valor armazenado na variavel é maior do que 13 .\n"
     ]
    }
   ],
   "source": [
    "aux = 19\n",
    "\n",
    "if aux > 13:\n",
    "\tprint(\"O valor armazenado na variavel é maior do que 13 .\")\n",
    "\n",
    "elif aux > 14:\n",
    "\tprint(\"O valor armazenado na variavel é maior do que 14.\")\n",
    "else:\n",
    "\tprint(\"A variável tem armazenado um valor inferior a 13.\")"
   ]
  },
  {
   "cell_type": "markdown",
   "metadata": {},
   "source": [
    "<h1> Exercícios </h1>\n",
    "\n",
    "#### 1 - Faça um programa na qual o usuário digitará uma idade e o programa retornará se a idade digitada é superior ou inferior à maioridade penal."
   ]
  },
  {
   "cell_type": "code",
   "execution_count": null,
   "metadata": {
    "collapsed": true
   },
   "outputs": [],
   "source": []
  },
  {
   "cell_type": "markdown",
   "metadata": {},
   "source": [
    "#### 2 - Peça para o usuário digitar dois valores e retorne o maior deles."
   ]
  },
  {
   "cell_type": "code",
   "execution_count": null,
   "metadata": {
    "collapsed": true
   },
   "outputs": [],
   "source": []
  },
  {
   "cell_type": "markdown",
   "metadata": {},
   "source": [
    "### Para mais informações sobre condicionais, consulte a documentação do python em: https://docs.python.org/3/tutorial/controlflow.html#if-statements"
   ]
  }
 ],
 "metadata": {
  "kernelspec": {
   "display_name": "Python 3",
   "language": "python",
   "name": "python3"
  },
  "language_info": {
   "codemirror_mode": {
    "name": "ipython",
    "version": 3
   },
   "file_extension": ".py",
   "mimetype": "text/x-python",
   "name": "python",
   "nbconvert_exporter": "python",
   "pygments_lexer": "ipython3",
   "version": "3.5.2"
  }
 },
 "nbformat": 4,
 "nbformat_minor": 2
}
