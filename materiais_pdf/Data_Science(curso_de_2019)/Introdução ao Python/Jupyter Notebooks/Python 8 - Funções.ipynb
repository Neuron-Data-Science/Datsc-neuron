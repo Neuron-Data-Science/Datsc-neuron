{
 "cells": [
  {
   "cell_type": "markdown",
   "metadata": {},
   "source": [
    "# Funções\n",
    "\n",
    "As funções em python são caracterizadas pelo comando \"def\" seguido pelo nome da função e os argumentos que ela recebe, assim indicando o início de uma função:\n",
    "\n",
    "def minha_funcao():\n",
    "\n",
    "Chamamos de argumento de uma função os elementos que serão manipuladas dentro de uma função, sendo esses elementos de qualquer tipo oferecido pela linguagem(listas, strings, etc):"
   ]
  },
  {
   "cell_type": "code",
   "execution_count": 1,
   "metadata": {
    "collapsed": true
   },
   "outputs": [],
   "source": [
    "def ola(meu_nome):\n",
    "    print(\"ola \"+meu_nome+\"!\")"
   ]
  },
  {
   "cell_type": "markdown",
   "metadata": {},
   "source": [
    "Um outro aspecto importante que notamos no exemplo acima é que as funções também obedecem a identação dos demais comando como listas e loops. Geralmente, as funções não são blocos de comandos muito extensos, porém isso não é uma regra geral, apenas uma boa prática de programação.\n",
    "\n",
    "As linhas execução de uma função são interpretadas de maneira separada das demais linhas do código, isso significa que qualquer operação que for feita na função existirá apenas dentro da função. Para usarmos o resultado gerado por uma função usamos o comando \"return\" - ele permite fazer que esse resultado seja mandado para uma variável fora da função:"
   ]
  },
  {
   "cell_type": "code",
   "execution_count": 2,
   "metadata": {
    "collapsed": true
   },
   "outputs": [],
   "source": [
    "def media(x1,x2):\n",
    "    return (x1+x2)/2"
   ]
  },
  {
   "cell_type": "markdown",
   "metadata": {},
   "source": [
    "Para usarmos a função criada é bem simples: basta chamar o nome da função e passar os argumentos necessários para que ela funcione:"
   ]
  },
  {
   "cell_type": "code",
   "execution_count": 4,
   "metadata": {},
   "outputs": [
    {
     "name": "stdout",
     "output_type": "stream",
     "text": [
      "2.0\n"
     ]
    }
   ],
   "source": [
    "x = media(2,2)\n",
    "print(x)"
   ]
  },
  {
   "cell_type": "markdown",
   "metadata": {},
   "source": [
    "Exemplo de funções maiores:"
   ]
  },
  {
   "cell_type": "code",
   "execution_count": 5,
   "metadata": {},
   "outputs": [
    {
     "name": "stdout",
     "output_type": "stream",
     "text": [
      "5\n"
     ]
    }
   ],
   "source": [
    "# função para retornar o maior valor de uma lista\n",
    "\n",
    "def maior(x):\n",
    "    aux = 0\n",
    "    for i in x:\n",
    "        if i > aux:\n",
    "            aux = i\n",
    "    return aux\n",
    "\n",
    "lista = [1,2,3,4,5]\n",
    "var = maior(lista)\n",
    "print(var)"
   ]
  },
  {
   "cell_type": "markdown",
   "metadata": {},
   "source": [
    "# Exercícios"
   ]
  },
  {
   "cell_type": "markdown",
   "metadata": {},
   "source": [
    "1- Faça uma função que retorna ordene uma lista desordenada.\n",
    "\n",
    "2- Faça uma função que retorne dois números aleatórios."
   ]
  },
  {
   "cell_type": "code",
   "execution_count": null,
   "metadata": {
    "collapsed": true
   },
   "outputs": [],
   "source": []
  }
 ],
 "metadata": {
  "kernelspec": {
   "display_name": "Python 3",
   "language": "python",
   "name": "python3"
  },
  "language_info": {
   "codemirror_mode": {
    "name": "ipython",
    "version": 3
   },
   "file_extension": ".py",
   "mimetype": "text/x-python",
   "name": "python",
   "nbconvert_exporter": "python",
   "pygments_lexer": "ipython3",
   "version": "3.5.2"
  }
 },
 "nbformat": 4,
 "nbformat_minor": 2
}
