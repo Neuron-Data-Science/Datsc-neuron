{
 "cells": [
  {
   "cell_type": "markdown",
   "metadata": {},
   "source": [
    "# Lista\n",
    "Listas em Python são estruturas de dados ordenadas que podem armazenar qualquer tipo de valor, sendo eles inteiros, strings, floats, funções, classes e outros. É importante dizer que cada valor é identificado por um índice.\n",
    "\n",
    "  --> item  Podemos dizer que as Listas são parecidas com os arrays de outras linguagens de programação;\n",
    "  \n",
    "  --> item  As listas não armazenam realmente os objetos dentro dela, mas sim a referência de memória desses objetos;\n",
    "\n",
    "Declaramos uma lista da seguinte maneira:"
   ]
  },
  {
   "cell_type": "code",
   "execution_count": 1,
   "metadata": {},
   "outputs": [
    {
     "data": {
      "text/plain": [
       "['a', 'b', 'c']"
      ]
     },
     "execution_count": 1,
     "metadata": {},
     "output_type": "execute_result"
    }
   ],
   "source": [
    "letras = ['a','b','c']\n",
    "\n",
    "# ou da seguinte maneira  \n",
    "\n",
    "letras = list(('a','b','c'))\n",
    "\n",
    "letras"
   ]
  },
  {
   "cell_type": "markdown",
   "metadata": {},
   "source": [
    "O comprimento da lista pode ser obtido com o comando len:"
   ]
  },
  {
   "cell_type": "code",
   "execution_count": 2,
   "metadata": {},
   "outputs": [
    {
     "data": {
      "text/plain": [
       "3"
      ]
     },
     "execution_count": 2,
     "metadata": {},
     "output_type": "execute_result"
    }
   ],
   "source": [
    "len(letras)"
   ]
  },
  {
   "cell_type": "markdown",
   "metadata": {},
   "source": [
    "Podemos também pegar partes dessa listas, \"cortes\" das partes que desejarmos, chamamos isso de Slicing, que podemos fazer da seguinte forma:"
   ]
  },
  {
   "cell_type": "code",
   "execution_count": 3,
   "metadata": {},
   "outputs": [
    {
     "data": {
      "text/plain": [
       "['b', 'c']"
      ]
     },
     "execution_count": 3,
     "metadata": {},
     "output_type": "execute_result"
    }
   ],
   "source": [
    "letras[1:3] # retorna elementos a partir do índice 1 até o índice 2 "
   ]
  },
  {
   "cell_type": "code",
   "execution_count": 4,
   "metadata": {},
   "outputs": [
    {
     "data": {
      "text/plain": [
       "['a', 'b']"
      ]
     },
     "execution_count": 4,
     "metadata": {},
     "output_type": "execute_result"
    }
   ],
   "source": [
    "letras[:2] # retorna elementos a partir do índice 0 até o índice 1"
   ]
  },
  {
   "cell_type": "code",
   "execution_count": 5,
   "metadata": {},
   "outputs": [
    {
     "data": {
      "text/plain": [
       "['b', 'c']"
      ]
     },
     "execution_count": 5,
     "metadata": {},
     "output_type": "execute_result"
    }
   ],
   "source": [
    "letras[-2:] # retorna elementos a partir do índice -2(penúltimo item) até o fim."
   ]
  },
  {
   "cell_type": "markdown",
   "metadata": {},
   "source": [
    "Podemos também usar listas diretamente com os loops, tornando sua manipulação mais fácil:"
   ]
  },
  {
   "cell_type": "code",
   "execution_count": 6,
   "metadata": {},
   "outputs": [
    {
     "name": "stdout",
     "output_type": "stream",
     "text": [
      "a\n",
      "b\n",
      "c\n"
     ]
    }
   ],
   "source": [
    "for item in letras:\n",
    "    print(item)"
   ]
  },
  {
   "cell_type": "markdown",
   "metadata": {},
   "source": [
    "Ademais, é possível trabalhar com o índices dessas listas nos loops:"
   ]
  },
  {
   "cell_type": "code",
   "execution_count": 8,
   "metadata": {},
   "outputs": [
    {
     "name": "stdout",
     "output_type": "stream",
     "text": [
      "0 a\n",
      "1 b\n",
      "2 c\n"
     ]
    }
   ],
   "source": [
    "for index, item in enumerate(letras):\n",
    "    print (index, item)"
   ]
  },
  {
   "cell_type": "markdown",
   "metadata": {},
   "source": [
    "Podemos verificar se um elemento pertence a uma lista facilmente. Para isso, utilizamos o operador *in*, que testa se o elemento está dentro de uma determinada sequência. O operador serve tanto para listas, como para qualquer outro tipo de sequência, como por exemplo strings, dicionários e outras:"
   ]
  },
  {
   "cell_type": "code",
   "execution_count": 9,
   "metadata": {},
   "outputs": [
    {
     "name": "stdout",
     "output_type": "stream",
     "text": [
      "b esta na lista letras\n"
     ]
    }
   ],
   "source": [
    "if 'b' in letras:\n",
    "    print ('b esta na lista letras')\n"
   ]
  },
  {
   "cell_type": "markdown",
   "metadata": {},
   "source": [
    "O python nos provê, de forma nativa, algumas funções para trabalharmos com as listas. Por exemplo, as funções de inserção que são frequentemente utilizadas:"
   ]
  },
  {
   "cell_type": "code",
   "execution_count": 10,
   "metadata": {},
   "outputs": [
    {
     "data": {
      "text/plain": [
       "['a', 'b', 'c', 'd']"
      ]
     },
     "execution_count": 10,
     "metadata": {},
     "output_type": "execute_result"
    }
   ],
   "source": [
    "letras.append('d')\n",
    "letras"
   ]
  },
  {
   "cell_type": "code",
   "execution_count": 11,
   "metadata": {},
   "outputs": [
    {
     "data": {
      "text/plain": [
       "['a', 'b', 'c', 'd', ['e', 'f']]"
      ]
     },
     "execution_count": 11,
     "metadata": {},
     "output_type": "execute_result"
    }
   ],
   "source": [
    "letras.append(['e', 'f'])\n",
    "letras\n",
    "# Repare que foi adicionado uma lista na última posição."
   ]
  },
  {
   "cell_type": "code",
   "execution_count": 12,
   "metadata": {},
   "outputs": [
    {
     "data": {
      "text/plain": [
       "['a', 'b', 'c', 'd', ['e', 'f'], 'g', 'h']"
      ]
     },
     "execution_count": 12,
     "metadata": {},
     "output_type": "execute_result"
    }
   ],
   "source": [
    "letras.extend(['g', 'h'])\n",
    "letras"
   ]
  },
  {
   "cell_type": "markdown",
   "metadata": {},
   "source": [
    "Veja que ao contrário de \".append\" o método \".extend\" decompõe a lista que foi passada como argumento e coloca um item por posição na lista original.\n",
    "Podemos também escolher onde desejamos inserir algo na lista:"
   ]
  },
  {
   "cell_type": "code",
   "execution_count": 13,
   "metadata": {},
   "outputs": [
    {
     "data": {
      "text/plain": [
       "['a', 'w', 'b', 'c', 'd', ['e', 'f'], 'g', 'h']"
      ]
     },
     "execution_count": 13,
     "metadata": {},
     "output_type": "execute_result"
    }
   ],
   "source": [
    "letras.insert(1,'w') \n",
    "letras"
   ]
  },
  {
   "cell_type": "markdown",
   "metadata": {},
   "source": [
    "Outra função muito importante que o python nos fornece são as de remoção de elementos de lista, que podemos fazer isto da seguinte maneira:"
   ]
  },
  {
   "cell_type": "code",
   "execution_count": 17,
   "metadata": {},
   "outputs": [
    {
     "data": {
      "text/plain": [
       "['b', 'c', 'a']"
      ]
     },
     "execution_count": 17,
     "metadata": {},
     "output_type": "execute_result"
    }
   ],
   "source": [
    "letras = ['a', 'b', 'c', 'a']\n",
    "letras.remove('a')\n",
    "letras\n",
    "## repare que apenas a primeira ocorrência de 'a' foi removida "
   ]
  },
  {
   "cell_type": "markdown",
   "metadata": {},
   "source": [
    "Ou podemos remover o ultimo elemento de uma lista com a função pop:"
   ]
  },
  {
   "cell_type": "code",
   "execution_count": 18,
   "metadata": {},
   "outputs": [
    {
     "name": "stdout",
     "output_type": "stream",
     "text": [
      "a\n",
      "Lista restante: ['b', 'c']\n"
     ]
    }
   ],
   "source": [
    "print(letras.pop())\n",
    "print(\"Lista restante:\",letras)"
   ]
  },
  {
   "cell_type": "markdown",
   "metadata": {},
   "source": [
    "Caso tente remover um item que não pertence a uma lista ocorrerá erro.\n",
    "Podemos também realizar operações com listas de maneira muito simples: "
   ]
  },
  {
   "cell_type": "code",
   "execution_count": 20,
   "metadata": {},
   "outputs": [
    {
     "name": "stdout",
     "output_type": "stream",
     "text": [
      "Soma de listas:  [1, 2, 'a']\n",
      "Soma de item:  [1, 2, 'a', 3]\n",
      "Multiplicação:  ['a', 'b']\n"
     ]
    }
   ],
   "source": [
    "n = [1] + [2, 'a'] # somar duas listas, equivalente à [1].extend([2, 'a'])\n",
    "print(\"Soma de listas: \",n)\n",
    "\n",
    "\n",
    "n += [3] # equivalente à n.extend([3])\n",
    "print(\"Soma de item: \",n)\n",
    "\n",
    "n = ['a', 'b']\n",
    "n * 3 # equivalente à ['a', 'b'] + ['a', 'b'] + ['a', 'b']\n",
    "print(\"Multiplicação: \",n)"
   ]
  },
  {
   "cell_type": "markdown",
   "metadata": {},
   "source": [
    "Uma importante característica de listas em python é que elas são **objetos mutáveis** - o que isso significa? Um Objeto mutável é aquele que pode ser alterado após a sua criação, ou seja, podemos alterar o estado do objeto sem termos que criar uma cópia do mesmo. Por exemplo:"
   ]
  },
  {
   "cell_type": "code",
   "execution_count": 22,
   "metadata": {},
   "outputs": [
    {
     "data": {
      "text/plain": [
       "3016614477768"
      ]
     },
     "execution_count": 22,
     "metadata": {},
     "output_type": "execute_result"
    }
   ],
   "source": [
    "n = ['a', 3.14]\n",
    "id(n) # a função built-in retorna o endereço de memória do objeto."
   ]
  },
  {
   "cell_type": "code",
   "execution_count": 24,
   "metadata": {},
   "outputs": [
    {
     "name": "stdout",
     "output_type": "stream",
     "text": [
      "Lista:  ['a', 3.14, 'b', 'b']\n",
      "Endereço:  3016614477768\n"
     ]
    }
   ],
   "source": [
    "n.append('b')\n",
    "print(\"Lista: \",n)\n",
    "print(\"Endereço: \", id(n))"
   ]
  },
  {
   "cell_type": "code",
   "execution_count": 25,
   "metadata": {},
   "outputs": [
    {
     "name": "stdout",
     "output_type": "stream",
     "text": [
      "Lista:  ['b', 'b', 3.14, 'a']\n",
      "Endereço:  3016614477768\n"
     ]
    }
   ],
   "source": [
    "n.reverse() # inverte a lista\n",
    "print(\"Lista: \",n)\n",
    "print(\"Endereço: \", id(n))"
   ]
  },
  {
   "cell_type": "markdown",
   "metadata": {},
   "source": [
    "Podemos também referenciar uma lista, isto é, duas variáveis apontarem para a mesma lista, fazendo que as ações feitas em uma variável também vai refletir na outra."
   ]
  },
  {
   "cell_type": "code",
   "execution_count": 26,
   "metadata": {},
   "outputs": [
    {
     "data": {
      "text/plain": [
       "(['a', 'b'], ['a', 'b'])"
      ]
     },
     "execution_count": 26,
     "metadata": {},
     "output_type": "execute_result"
    }
   ],
   "source": [
    "n = ['a', 'b']\n",
    "w = n\n",
    "w, n"
   ]
  },
  {
   "cell_type": "code",
   "execution_count": 27,
   "metadata": {},
   "outputs": [
    {
     "data": {
      "text/plain": [
       "(3016614547720, 3016614547720)"
      ]
     },
     "execution_count": 27,
     "metadata": {},
     "output_type": "execute_result"
    }
   ],
   "source": [
    "id(n), id(w) \n",
    "# repare que os endereços de meoria são iguais"
   ]
  },
  {
   "cell_type": "code",
   "execution_count": 28,
   "metadata": {},
   "outputs": [
    {
     "data": {
      "text/plain": [
       "(['a', 'b', 'c'], ['a', 'b', 'c'])"
      ]
     },
     "execution_count": 28,
     "metadata": {},
     "output_type": "execute_result"
    }
   ],
   "source": [
    "w.append('c')\n",
    "w, n"
   ]
  },
  {
   "cell_type": "markdown",
   "metadata": {},
   "source": [
    "# importante: 'n' também foi alterado, pois 'n' e 'w' apontam para o mesmo endereço de memória."
   ]
  },
  {
   "cell_type": "code",
   "execution_count": 29,
   "metadata": {},
   "outputs": [
    {
     "data": {
      "text/plain": [
       "(3016614547720, 3016614547720)"
      ]
     },
     "execution_count": 29,
     "metadata": {},
     "output_type": "execute_result"
    }
   ],
   "source": [
    "id(n), id(w)"
   ]
  },
  {
   "cell_type": "markdown",
   "metadata": {},
   "source": [
    "Se tudo é referência, então como criar uma cópia de uma Lista?"
   ]
  },
  {
   "cell_type": "code",
   "execution_count": 30,
   "metadata": {},
   "outputs": [
    {
     "data": {
      "text/plain": [
       "(3016614477512, 3016614549768)"
      ]
     },
     "execution_count": 30,
     "metadata": {},
     "output_type": "execute_result"
    }
   ],
   "source": [
    "n = ['a', 'b']\n",
    "w = n[:] # cria uma cópia de 'n'\n",
    "id(n), id(w)"
   ]
  },
  {
   "cell_type": "markdown",
   "metadata": {},
   "source": [
    "Observe que endereço de memória não é mais o mesmo, ou seja, temos duas variáveis, cada uma apontando para seu endereço de memória."
   ]
  },
  {
   "cell_type": "markdown",
   "metadata": {},
   "source": [
    "# Exercicios\n",
    "1- Dado uma lista com números inteiros arbitrários inseridos nela, faça uma código o qual separe os números ímpares em uma lista e os pares em outra.\n",
    "\n",
    "2- Junte as listas resultantes do exercício anterior e ordene seus elementos em ordem crescente."
   ]
  },
  {
   "cell_type": "code",
   "execution_count": null,
   "metadata": {
    "collapsed": true
   },
   "outputs": [],
   "source": []
  }
 ],
 "metadata": {
  "kernelspec": {
   "display_name": "Python 3",
   "language": "python",
   "name": "python3"
  },
  "language_info": {
   "codemirror_mode": {
    "name": "ipython",
    "version": 3
   },
   "file_extension": ".py",
   "mimetype": "text/x-python",
   "name": "python",
   "nbconvert_exporter": "python",
   "pygments_lexer": "ipython3",
   "version": "3.5.2"
  }
 },
 "nbformat": 4,
 "nbformat_minor": 2
}
