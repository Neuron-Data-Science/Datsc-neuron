{
 "cells": [
  {
   "cell_type": "markdown",
   "metadata": {},
   "source": [
    "<h1> Manipulação de Strings </h1>\n",
    "\n",
    "Como adiantado brevemente no capítulo sobre variáveis, strings nada mais são do que sequências de caracteres. No python, uma string pode ser identificada pelo característico meio de declará-la:"
   ]
  },
  {
   "cell_type": "code",
   "execution_count": 6,
   "metadata": {},
   "outputs": [
    {
     "data": {
      "text/plain": [
       "str"
      ]
     },
     "execution_count": 6,
     "metadata": {},
     "output_type": "execute_result"
    }
   ],
   "source": [
    "_string = \"Isso e uma string\"\n",
    "type(_string)"
   ]
  },
  {
   "cell_type": "markdown",
   "metadata": {},
   "source": [
    "O objetivo desse capítulo é introduzir as técnicas básicas de manipulação de string, uma vez que essas assumirão um papel fundamental em situações que dependam de processamento do texto. O Python  é uma das linguagens mais poderosas quando o assunto é strings, ele vem com um conjunto variado de funções built-in voltadas a esse tipo de data, segue abaixo as principais:"
   ]
  },
  {
   "cell_type": "code",
   "execution_count": 7,
   "metadata": {},
   "outputs": [
    {
     "name": "stdout",
     "output_type": "stream",
     "text": [
      "5\n"
     ]
    }
   ],
   "source": [
    "print(len(\"hello\")) #A função len() retorna a quantidades de caracteres sequenciados dentro de determinada string."
   ]
  },
  {
   "cell_type": "code",
   "execution_count": 8,
   "metadata": {},
   "outputs": [
    {
     "name": "stdout",
     "output_type": "stream",
     "text": [
      "6\n",
      "-1\n"
     ]
    }
   ],
   "source": [
    "'''A função find() Encontra a posição que determinada sequência de caracteres está na string,\n",
    "vale lembrar que a contagem começa a partir do 0 e não do 1. Caso a sequência buscada não esteja presente na string,\n",
    "a função retornará -1. '''\n",
    "\n",
    "X = \"hello world\"\n",
    "print(X.find(\"world\"))\n",
    "print(X.find(\"horse\"))"
   ]
  },
  {
   "cell_type": "code",
   "execution_count": 9,
   "metadata": {},
   "outputs": [
    {
     "name": "stdout",
     "output_type": "stream",
     "text": [
      "['data', 'science']\n",
      "['d', 't', ' science']\n"
     ]
    }
   ],
   "source": [
    "'''A função split() divide a string em partes e retorna-as em uma lista, a separação ocorre por um divisor definido como parâmetro no momento\n",
    "em que a função é chamada, caso não seja definido um separador, a divisão ocorrerá a cada espaço.'''\n",
    "\n",
    "x = \"data science\"\n",
    "print(x.split())\n",
    "print(x.split(\"a\"))"
   ]
  },
  {
   "cell_type": "markdown",
   "metadata": {},
   "source": [
    "Além das funções acima, é possível recortar intervalos de uma string:"
   ]
  },
  {
   "cell_type": "code",
   "execution_count": 10,
   "metadata": {},
   "outputs": [
    {
     "name": "stdout",
     "output_type": "stream",
     "text": [
      "ello wo\n",
      "H\n"
     ]
    }
   ],
   "source": [
    "m = \"Hello world\"\n",
    "m0 = m[1:8]\n",
    "\n",
    "print(m0)\n",
    "print(m[0:1])"
   ]
  },
  {
   "cell_type": "markdown",
   "metadata": {},
   "source": [
    "Outro recurso essencial é o concatenamento de strings, e é feito da seguinte forma:"
   ]
  },
  {
   "cell_type": "code",
   "execution_count": 11,
   "metadata": {},
   "outputs": [
    {
     "name": "stdout",
     "output_type": "stream",
     "text": [
      "xyzl\n",
      "Data Science\n"
     ]
    }
   ],
   "source": [
    "a = \"xy\"\n",
    "b = \"zl\"\n",
    "\n",
    "c = a + b\n",
    "\n",
    "print(c)\n",
    "print(\"Data\" + \" \" + \"Science\") #o concatenamento pode ser feito desta forma também"
   ]
  },
  {
   "cell_type": "markdown",
   "metadata": {},
   "source": [
    "<h1> Exercícios </h1>\n",
    "\n",
    "#### 1 - Crie um programa que peça para o usuário digitar uma frase e, então, retorne o seu tamanho.\n"
   ]
  },
  {
   "cell_type": "code",
   "execution_count": null,
   "metadata": {
    "collapsed": true
   },
   "outputs": [],
   "source": []
  },
  {
   "cell_type": "markdown",
   "metadata": {},
   "source": [
    "#### 2 - Crie um programa que pegue uma entrada de dados do usuário e crie uma string formada pelos 2 primeiros e 2 últimos caracteres recebidos."
   ]
  },
  {
   "cell_type": "code",
   "execution_count": null,
   "metadata": {
    "collapsed": true
   },
   "outputs": [],
   "source": []
  },
  {
   "cell_type": "markdown",
   "metadata": {},
   "source": [
    "### Para mais informações sobre strings, consulte a documentação do python em: https://docs.python.org/3/library/string.html"
   ]
  }
 ],
 "metadata": {
  "kernelspec": {
   "display_name": "Python 3",
   "language": "python",
   "name": "python3"
  },
  "language_info": {
   "codemirror_mode": {
    "name": "ipython",
    "version": 3
   },
   "file_extension": ".py",
   "mimetype": "text/x-python",
   "name": "python",
   "nbconvert_exporter": "python",
   "pygments_lexer": "ipython3",
   "version": "3.5.2"
  }
 },
 "nbformat": 4,
 "nbformat_minor": 2
}
