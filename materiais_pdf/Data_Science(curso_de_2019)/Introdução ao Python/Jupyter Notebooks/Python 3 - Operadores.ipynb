{
 "cells": [
  {
   "cell_type": "markdown",
   "metadata": {},
   "source": [
    "# Operadores\n",
    "Para realizarmos as operações no python usamos os operadores, eles nos permitem realizar operações matemáticas e operações lógicas, abrindo assim um grupo enorme de possibilidade. Os operadores matemáticos que nos permitem fazer somas, subtrações, divisões entre outras operações. Já os operadores lógicos são aqueles no qual é feita uma comparação e a resposta do linguagem sera Verdadeiro(true) ou Falso(false).   "
   ]
  },
  {
   "cell_type": "code",
   "execution_count": 1,
   "metadata": {},
   "outputs": [
    {
     "name": "stdout",
     "output_type": "stream",
     "text": [
      "A soma de a + b é 11\n",
      "A divisão de a / b é 1.200000\n",
      "A subtração de a - b é -1\n"
     ]
    }
   ],
   "source": [
    "# Operadores matematicos\n",
    "\n",
    "a = 5\n",
    "b = 6\n",
    "print( \"A soma de a + b é %d\"%(a+b))\n",
    "print( \"A divisão de a / b é %f\"%(b/a))\n",
    "print( \"A subtração de a - b é %d\"%(a-b))\n"
   ]
  },
  {
   "cell_type": "code",
   "execution_count": 2,
   "metadata": {},
   "outputs": [
    {
     "name": "stdout",
     "output_type": "stream",
     "text": [
      "A iqualdade de a > b é  False\n",
      "A iqualdade de a = b é  False\n",
      "A iqualdade de a < b é  True\n",
      "A iqualdade de a != b é  True\n"
     ]
    }
   ],
   "source": [
    "# Operadores Lógicos\n",
    "\n",
    "print( \"A iqualdade de a > b é \", a > b)\n",
    "print( \"A iqualdade de a = b é \", (a == b))\n",
    "print( \"A iqualdade de a < b é \", a < b)\n",
    "print( \"A iqualdade de a != b é \", a != b)"
   ]
  },
  {
   "cell_type": "code",
   "execution_count": 3,
   "metadata": {},
   "outputs": [
    {
     "data": {
      "text/plain": [
       "True"
      ]
     },
     "execution_count": 3,
     "metadata": {},
     "output_type": "execute_result"
    }
   ],
   "source": [
    "# com os operadores logico com o tempo vc percebera que é possivel complicar o quanto for necessario\n",
    "(5<6) & (not(5==6)) & (5!=6)\n",
    "# assim por diante\n",
    "# quão complexo você consegue deixar essa operação? Tente um pouco =)"
   ]
  },
  {
   "cell_type": "code",
   "execution_count": null,
   "metadata": {
    "collapsed": true
   },
   "outputs": [],
   "source": []
  }
 ],
 "metadata": {
  "kernelspec": {
   "display_name": "Python 3",
   "language": "python",
   "name": "python3"
  },
  "language_info": {
   "codemirror_mode": {
    "name": "ipython",
    "version": 3
   },
   "file_extension": ".py",
   "mimetype": "text/x-python",
   "name": "python",
   "nbconvert_exporter": "python",
   "pygments_lexer": "ipython3",
   "version": "3.5.2"
  }
 },
 "nbformat": 4,
 "nbformat_minor": 2
}
