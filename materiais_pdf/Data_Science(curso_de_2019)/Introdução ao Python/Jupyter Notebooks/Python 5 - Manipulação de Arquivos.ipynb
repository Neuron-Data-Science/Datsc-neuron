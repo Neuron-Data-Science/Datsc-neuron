{
 "cells": [
  {
   "cell_type": "markdown",
   "metadata": {},
   "source": [
    "# Manipulação de arquivos\n",
    "A manipulação de arquivos é algo muito prático no python, ela é usada quando queremos usar um arquivo exógeno (.txt, por exemplo) como entrada de dados do código, ou seja, o dado não vem do usuário e não está colocado no código fonte e vem de um lugar externo. Para vermos o conteúdo de um arquivo é necessário seguir alguns passos com funções do python. Primeiramente abrimos o arquivo e o armazenamos em uma variável - para isso utilizamos a função open, sendo que sua sintaxe fica da seguinte forma:\n",
    "\n",
    "\n",
    "\tvar= open(\"nome_do_arquivo.txt\", tipo_manipulacao)\n",
    "\n",
    "\n",
    "Após a abertura, sempre que quisermos manipular o arquivo usaremos a variável como referencia do arquivo. Na sintaxe da função, caso o arquivo esteja na mesma pasta do código basta colocar o nome dele, já se estiver em outro diretório, basta colocar o caminho até ele. Caso o arquivo passado para a função não existir, ela mesma criará o arquivo. É possível fazer dois tipos de manipulação, ou seja, escrever e ler um arquivo - elas são marcados pela letras “w” (de write) e “r” (de read). portanto ao colocar no tipo de manipulação uma das duas letras escolhemos o tipo de manipulação.\n",
    "\n",
    "Com o arquivo aberto podemos realizar as operações com ele. Primeiramente vamos escrever nele: "
   ]
  },
  {
   "cell_type": "code",
   "execution_count": 1,
   "metadata": {
    "collapsed": true
   },
   "outputs": [],
   "source": [
    "#Antes de rodar esta célula do jupyter, note que no diretório onde este arquivo estiver\n",
    "#não existe nenhum neuron.txt\n",
    "var = open(\"neuron.txt\",\"w\")"
   ]
  },
  {
   "cell_type": "markdown",
   "metadata": {},
   "source": [
    "Podemos adicionar textos ao arquivo de duas formas diferentes, podemos escrever uma string com tudo que quisermos e depois adicionar essa string no final da seguinte forma:"
   ]
  },
  {
   "cell_type": "code",
   "execution_count": 2,
   "metadata": {
    "collapsed": true
   },
   "outputs": [],
   "source": [
    "aux = \"Neuron e animal!\"\n",
    "#pode-se passar a string diretamente na função se desejar\n",
    "var.write(aux)\n",
    "\n",
    "#como dito na apostila, deve-se sempre fechar o arquivo para consolidar a ação\n",
    "var.close()\n",
    "# agora olhe no arquivo que você verá as alterações"
   ]
  },
  {
   "cell_type": "code",
   "execution_count": 3,
   "metadata": {
    "collapsed": true
   },
   "outputs": [],
   "source": [
    "#Ou adicionar linha por linha com\n",
    "var = open(\"neuron.txt\",\"w\")\n",
    "var.writelines(\"Neuron\")\n",
    "var.writelines(\"é\")\n",
    "var.writelines(\"animal!\")\n",
    "var.close()\n",
    "\n",
    "#NOTA:antes de rodar essa celula exclua os conteudos do arquivo para notar a diferença\n",
    "#ao fim exclua novamente os conteudo do arquivo novamente e \n",
    "#adicione um \\n ao final de cada string e veja a diferença"
   ]
  },
  {
   "cell_type": "markdown",
   "metadata": {},
   "source": [
    "Neste segundo caso é necessario informar quando se deve pular linha ou seja colocar um \"\\verb!\\n!\", ao final de cada linha, ou qualquer manipulação da string que seja desejada. Essa função também aceita listas (que serão abordadas em breve) como entrada.\n",
    "\n",
    "Em relação à função de ler o arquivo, a usamos para ler e pegar os dados do arquivos (para printar na tela o conteúdo, por exemplo). Para isso usamos a função:"
   ]
  },
  {
   "cell_type": "code",
   "execution_count": 43,
   "metadata": {},
   "outputs": [
    {
     "name": "stdout",
     "output_type": "stream",
     "text": [
      "Neuron e animal!\n",
      "\n",
      "\n"
     ]
    }
   ],
   "source": [
    "var=open(\"neuron.txt\",\"r\")\n",
    "texto = var.read()\n",
    "print(texto)"
   ]
  },
  {
   "cell_type": "markdown",
   "metadata": {},
   "source": [
    "Então basta dar print nesta variavel que recebeu os dados do arquivo. Podemos também pegar os dados do arquivo linha por linha, para isso usamos: "
   ]
  },
  {
   "cell_type": "code",
   "execution_count": 12,
   "metadata": {},
   "outputs": [
    {
     "data": {
      "text/plain": [
       "'linha um \\n'"
      ]
     },
     "execution_count": 12,
     "metadata": {},
     "output_type": "execute_result"
    }
   ],
   "source": [
    "# o comando readlines usa o \\n para interpretar a linha\n",
    "var_dois =open(\"neuron_dois.txt\",\"w\")\n",
    "var_dois.write(\"linha um \\n linha dois \\n linha três \\n\")\n",
    "var_dois.close()\n",
    "\n",
    "var_dois =open(\"neuron_dois.txt\",\"r\")\n",
    "var_dois.readline()\n",
    "#Ela transforma cada linha do arquivo em um item de lista.\n",
    "# descomente e printe a linha abaixo e para ver o que acontece:\n",
    "\n",
    "####var_dois.readline()####"
   ]
  },
  {
   "cell_type": "markdown",
   "metadata": {},
   "source": [
    "\n",
    "Ao final de qualquer operação, temos sempre que fechar o arquivo que foi aberto, pois é ao fechar o arquivo que consolidamos as ações feitas. Isso é feito com:"
   ]
  },
  {
   "cell_type": "code",
   "execution_count": 13,
   "metadata": {
    "collapsed": true
   },
   "outputs": [],
   "source": [
    "var_dois.close()\n",
    "var.close()"
   ]
  },
  {
   "cell_type": "markdown",
   "metadata": {},
   "source": [
    "## Exercício\n",
    "\n",
    "Usando os comandos ensinados até o momento, faça um programa que grave no arquivo apenas número ímpares e depois mostre eles na tela."
   ]
  },
  {
   "cell_type": "code",
   "execution_count": null,
   "metadata": {
    "collapsed": true
   },
   "outputs": [],
   "source": []
  }
 ],
 "metadata": {
  "kernelspec": {
   "display_name": "Python 3",
   "language": "python",
   "name": "python3"
  },
  "language_info": {
   "codemirror_mode": {
    "name": "ipython",
    "version": 3
   },
   "file_extension": ".py",
   "mimetype": "text/x-python",
   "name": "python",
   "nbconvert_exporter": "python",
   "pygments_lexer": "ipython3",
   "version": "3.5.2"
  }
 },
 "nbformat": 4,
 "nbformat_minor": 2
}
