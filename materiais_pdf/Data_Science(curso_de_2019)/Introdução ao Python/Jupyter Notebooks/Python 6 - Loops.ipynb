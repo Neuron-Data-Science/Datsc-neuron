{
 "cells": [
  {
   "cell_type": "markdown",
   "metadata": {},
   "source": [
    "# Loops"
   ]
  },
  {
   "cell_type": "markdown",
   "metadata": {},
   "source": [
    "Em Python é possível iterar sobre os itens de qualquer tipo de sequência, as mutáveis (listas, dicionários, ...) e também as imutáveis (tuplas, range, strings, ...) na ordem em que eles aparecem na sequência de maneira simples, isto é, repetir o mesmo bloco de comandos enquanto uma condição está sendo satisfeita.\n",
    "Existem dois tipos principais de loops  no Python: o *for* e o *while*.\n",
    "O *for* repete o bloco de comando até que um limite estabelecido seja atingido (e.g. \"para i começando de 0 até i=4, faça alguma coisa\"), a sintaxe é feita da seguinte forma:\n",
    "\n",
    "for < variavel > in < sequencia >:\n",
    "\t\n",
    "    < bloco de código >"
   ]
  },
  {
   "cell_type": "code",
   "execution_count": 6,
   "metadata": {},
   "outputs": [
    {
     "name": "stdout",
     "output_type": "stream",
     "text": [
      "1\n",
      "4\n",
      "9\n",
      "16\n",
      "25\n",
      "36\n"
     ]
    }
   ],
   "source": [
    "# exemplo\n",
    "for item in range(1,7):\n",
    "    print (item**2)# quadrado de um numero\n",
    "    \n",
    "# note que na função range(1,7) o item assume o valor maximo de 6 e nao 7, pois o ultimo numero da função indica\n",
    "# um \" menor que\""
   ]
  },
  {
   "cell_type": "code",
   "execution_count": 9,
   "metadata": {},
   "outputs": [
    {
     "name": "stdout",
     "output_type": "stream",
     "text": [
      "1\n",
      "2\n",
      "3\n",
      "4\n",
      "5\n",
      "6\n"
     ]
    }
   ],
   "source": [
    "for item in [1, 2, 3, 4, 5, 6]:\n",
    "    print (item)"
   ]
  },
  {
   "cell_type": "markdown",
   "metadata": {},
   "source": [
    "O while, por sua vez, faz as iterações até que uma condição não seja satisfeita mais (e.g. \"enquanto a condição for satisfeteita, continue no loop\") e sua sintaxe é da seguinte maneira:\n",
    "\n",
    "\n",
    "while < condição > :\n",
    "\t\n",
    "    < bloco de código >"
   ]
  },
  {
   "cell_type": "code",
   "execution_count": 8,
   "metadata": {},
   "outputs": [
    {
     "name": "stdout",
     "output_type": "stream",
     "text": [
      "i vale:  0\n",
      "i vale:  1\n",
      "i vale:  2\n",
      "Saiu do loop\n"
     ]
    }
   ],
   "source": [
    "# Exemplo\n",
    "i = 0\n",
    "while ( i < 3): # seu uso semelhante ao for\n",
    "    print (\"i vale: \",i)\n",
    "    i = i + 1\n",
    "print(\"Saiu do loop\")"
   ]
  },
  {
   "cell_type": "code",
   "execution_count": null,
   "metadata": {
    "collapsed": true
   },
   "outputs": [],
   "source": [
    "# seu dif do for\n",
    "i = 0\n",
    "\n",
    "while ( i != 3):\n",
    "    i = int(input (\"So vai sair se o numero for 3 : \"))\n",
    "\n",
    "print(\"Saiu do Loop\")"
   ]
  },
  {
   "cell_type": "markdown",
   "metadata": {},
   "source": [
    "# Exercício\n",
    "1- Faça uma programa que sorteie um numero arbitrário e só saia do loop quando este número for acertado. A cada entrada do usuário diga se o numero que foi digitado é maior ou menor que o correto."
   ]
  },
  {
   "cell_type": "code",
   "execution_count": null,
   "metadata": {
    "collapsed": true
   },
   "outputs": [],
   "source": []
  }
 ],
 "metadata": {
  "kernelspec": {
   "display_name": "Python 3",
   "language": "python",
   "name": "python3"
  },
  "language_info": {
   "codemirror_mode": {
    "name": "ipython",
    "version": 3
   },
   "file_extension": ".py",
   "mimetype": "text/x-python",
   "name": "python",
   "nbconvert_exporter": "python",
   "pygments_lexer": "ipython3",
   "version": "3.5.2"
  }
 },
 "nbformat": 4,
 "nbformat_minor": 2
}
