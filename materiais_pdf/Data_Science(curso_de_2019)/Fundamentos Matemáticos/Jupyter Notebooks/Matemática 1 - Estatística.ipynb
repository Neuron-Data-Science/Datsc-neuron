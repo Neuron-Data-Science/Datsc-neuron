{
 "cells": [
  {
   "cell_type": "markdown",
   "metadata": {},
   "source": [
    "# Fundamentos de Matemática"
   ]
  },
  {
   "cell_type": "markdown",
   "metadata": {},
   "source": [
    "## O que é Estatística?\n",
    "\n",
    "Basicamente, a estatística é um braço da matématica que trabalha com dados para a geração de conhecimento e tomada de decisões.\n",
    "\n",
    "É um tema grandioso que pode ser dividido em duas grandes áreas: \n",
    "\n",
    "1. item Análise Exploratória de Dados\n",
    "2. item Análise Confirmatória de Dados (Inferência Estatística).\n",
    "\n",
    "\n",
    "Vamos começar nossa jornada do mais simples, a abordagem 1.\n",
    "\n",
    "Na análise exploratória de dados, como o nome sugere, o interesse é a familiarização com os dados. Queremos conhecê-los, entender sua estrutura, sua grandeza. Dessa forma, saberemos que metodologia aplicar para fazermos nossas análises de forma correta.\n",
    "\n",
    "Neste vasto compo de análise inicial dos dados, temos como principais ferramentas as medidas-resumo (média, mediana, variância...), também conhecidas como medidas de posição e variabilidade, e as técnicas gráficas cuja entrega de valor para o leitor (estudante...) é mais rápida e fácil, dado que as pessoas têm maior familiaridade com imagens, gráficos, do que com tabelas.\n",
    "\n",
    "Dado este contexto, o melhor cenário na construção de uma boa análise exploratória se dá pela combinação entre \\textbf{medidas de posição e variabilidade} e \\textbf{técnicas gráficas}.\n",
    "\n",
    "Show!!! mas antes de sair jogando um monte de fórmulas nos dados precisamos entender o conceito de variável e seus tipos:\n",
    "\n",
    "### Variáveis e Seus Tipos\n",
    "\n",
    "**Variável** é o termo utilizado para se referir a alguma característica dos dados que se está analisando. Para ficar mais claro, vamos utilizar um exemplo. Suponha o conjunto de dados abaixo:\n",
    "\n",
    "**Pessoas aleatórias**\n",
    "\n",
    "Id | Nome    | Idade (Anos) | Peso (Kg) | Grau de Instrução  \n",
    "---|---------|--------------|-----------|------------------                           \n",
    "1  | Thiago  | 31           | 80        | Superior    \n",
    "2  | Natália | 43           | 53        | Superior    \n",
    "3  | Augusto | 60           | 74,5      | Médio       \n",
    "4  | Aline   | 27           | 63        | Fundamental \n",
    "5  | Joaquim | 80           | 63        | Médio       \n",
    "\n",
    "Antes de qualquer coisa, vamos tentar entender esse conjunto de dados. Sabemos pelo título da tabela que os dados se referem a pessoas e suas características. Temos 5 variáveis, ou seja, 5 características que definem essas pessoas. Portanto, cada característica, cada variável é uma coluna da tabela. \n",
    "\n",
    "Vamos começar nossa análise coluna-por-coluna. De imediato percebemos que 3 das 5 variáveis são numéricas e as demais caracteres.\n",
    "\n",
    "Com relação às variáveis numéricas, a primeira delas **Id**, é apenas uma variável identificadora. Neste momento não é uma variável útil para nossa análise.\n",
    "\n",
    "A segunda variável numérica é **Idade** (em anos). Se refere a dados de contagem de tempo em números inteiros de anos. Portanto, esta variável é do tipo quantitativa discreta. Gostaria de acrescentar que essa variável poderia também ser classificada como uma variável quantitativa contínua, se assumíssemos que seus valores pudessem ser frações de ano, e não apenas números inteiros.\n",
    "\n",
    "A terceira variável numérica é **Peso** (em Kg). É uma variável que admite valores fracionados, pertencentes ao conjunto dos números reais. Portanto, trata-se de uma variável quantitativa contínua.\n",
    "\n",
    "Com relação às variáveis não numéricas (Nome e Grau de Instrução), podemos classificá-las de duas formas: As variáveis podem ser qualitativas nominais ou qualitativas ordinais.\n",
    "\n",
    "As nominais tratam de categorias sem uma ordem pre-definida entre elas. É o caso da variável **Nome**, que expressa uma característica das pessoas que estão relacionadas na tabela, mas não ordena estas de nenhuma forma. Não há uma relação entre os nomes.\n",
    "\n",
    "Já as variáveis qualitativas ordinais são aquelas onde pode-se observar uma relação entre seus valores. É o caso da variável **Grau de Instrução**, onde temos valores que seguem uma ordem entre si. É de conhecimento geral que primeiro vem o ensino fundamental, depois o ensino médio e depois o superior. A ordem é esta!\n",
    "\n",
    "Bem, agora podemos iniciar nossos trabalhos na análise exploratória desses dados e, para isso, vamos conhecer algumas medidas-resumo:\n",
    "\n"
   ]
  },
  {
   "cell_type": "markdown",
   "metadata": {},
   "source": [
    "### Medidas de Posição e Variabilidade\n",
    "\n",
    "#### Média\n",
    "\n",
    "Vamos começar pela mais famosa das medidas de posição: a média. Esta é uma estatística, uma medida, que resume os dados em um apenas um único valor, e é definida como a soma das observações de uma série dividida pela quantidade de elementos dessa série. Confira a expressão:\n",
    "\n",
    "\\begin{equation}\n",
    "\t\\bar{X} = \\frac{\\sum_{i=1}^{n} x_i}{n}\n",
    "\\end{equation}\n",
    "\n",
    "Pra ficar mais claro, vamos calcular a média das variáveis númericas (idade e peso) que temos na tabela 1."
   ]
  },
  {
   "cell_type": "code",
   "execution_count": 20,
   "metadata": {},
   "outputs": [
    {
     "name": "stdout",
     "output_type": "stream",
     "text": [
      "As médias de Idade e Peso são, respectivamente:  48.2 anos e 66.7 Kg\n"
     ]
    }
   ],
   "source": [
    "media_idade = (31 + 43 + 60 + 27 + 80)/5\n",
    "media_peso = (80 + 53 + 74.5 + 63 + 63)/5\n",
    "print (\"As médias de Idade e Peso são, respectivamente: \",media_idade, \"anos e\", media_peso,\"Kg\")"
   ]
  },
  {
   "cell_type": "markdown",
   "metadata": {},
   "source": [
    "Portanto, temos que, em média, os indivíduos da tabela 1 têm 48,2 anos de idade e pesam, em média, 66,7Kg. Veja que esses dois números resumem essas duas séries de dados. Vale ressaltar aqui que a média é uma medida altamente influenciada por valores extremos, ou seja, valores discrepantes influenciam no cálculo da média e, dessa forma, as vezes a média pode não ser uma boa alternativa, mas deixemos essa discussão para o futuro. Em breve vamos entrar nesse assunto novamente.\n",
    "\n",
    "#### Mediana\n",
    "\n",
    "A segunda medida de posição que vamos utilizar é a mediana. Trata-se da observação central de uma série de dados **ordenada**. Perceba que a mediana somente será exatamente o termo central de uma série de dados quando essa série tiver um número ímpar de elementos. Quando a série de dados tiver um número par, a mediana será definida como a média entre os dois termos centrais. Ou seja:\n",
    "\n"
   ]
  },
  {
   "cell_type": "markdown",
   "metadata": {},
   "source": [
    "\n",
    "\\begin{array}{cc}\n",
    "x_{(\\frac{n+1}{2})}, \\ \\ \\ se \\ n \\ impar \\\\\n",
    "\\frac{x_{(\\frac{n}{2})}+x_{(\\frac{n}{2}+1)}}{2}, \\ \\ \\ se \\ n \\ par.\n",
    "\\end{array}\n",
    "\n",
    "\n",
    "\n"
   ]
  },
  {
   "cell_type": "code",
   "execution_count": 1,
   "metadata": {},
   "outputs": [
    {
     "name": "stdout",
     "output_type": "stream",
     "text": [
      "As medianas das variáveis Idade e Peso são, respectivamente  43 63\n"
     ]
    }
   ],
   "source": [
    "#Entrando com os dados de Idade e Peso:\n",
    "idade=[31,43,60,27,80]\n",
    "peso=[80,53,74.5,63,63]\n",
    "\n",
    "#Calculando a mediana para a variável Idade:\n",
    "idade_ord=sorted(idade)\n",
    "n_i=len(idade_ord)\n",
    "centro_i=n_i//2\n",
    "if(n_i%2 == 1):\n",
    "    mediana_idade=idade_ord[centro_i]\n",
    "else:\n",
    "    mediana_idade=(idade_ord[centro_i-1]+idade_ord[centro_i])/2\n",
    "\n",
    "#Calculando a mediana para a variável Idade:\n",
    "peso_ord=sorted(peso)\n",
    "n_p=len(peso_ord)\n",
    "centro_p=n_p//2\n",
    "if(n_p%2 == 1):\n",
    "    mediana_peso=peso_ord[centro_p]\n",
    "else:\n",
    "    mediana_peso=(peso_ord[centro_p-1]+peso_ord[centro_p])/2\n",
    "print(\"As medianas das variáveis Idade e Peso são, respectivamente \",mediana_idade,mediana_peso)"
   ]
  },
  {
   "cell_type": "markdown",
   "metadata": {},
   "source": [
    "Dado o método de cálculo da mediana, que leva em conta apenas os termos centrais, temos que essa medida, diferentemente da média, é robusta com relação à valores extremos, isto é, estes não influenciam em seu cálculo. Para clarificar o conceito de mediana, vamos calcular a mediana das variáveis Idade e Peso, da tabela 1.\n",
    "\n",
    "\n",
    " Idade (ordenada): 27, 31, **43**, 60, 80\n",
    "\n",
    " Peso (ordenado): 53, 63, **63**, 74.5, 80\n",
    "\n",
    "Conforme destacado nas séries acima, os termos centrais das séries Idade e Peso são, respectivamente 43 e 63. Portantos, estes são os valores das medianas dessas duas variáveis.\n",
    "\n",
    "#### Moda\n",
    "\n",
    "Outra medida resumo (de posição) que temos é a Moda. Como o próprio nome já diz, ela busca o(s) elemento(s) que está(ão) na moda, ou seja, os elementos que mais se repetem, que aparecem com maior frequencia numa série de dados. Vamos ver como essa medida funciona por meio de um exemplo. Devemos encontrar as modas das variáveis Idade e Peso, da tabela 1.\n",
    "\n",
    "Para a variável idade, observe que na tabela abaixo as frequências de todos os elementos da série são iguais a 1. Portanto, não temos uma moda nessa série, dado que todos aparecem com a mesma frequência.\n",
    "\n",
    "**Variável Idade**\n",
    "\n",
    "Elementos | Frequência \n",
    "----------|-----------                               \n",
    "31        | 1 \n",
    "43        | 1 \n",
    "60        | 1 \n",
    "27        | 1 \n",
    "80        | 1 \n",
    "\n",
    "Para a variável Peso, temos uma situação diferente. Podemos observar pela tabela abaixo que o valor **63** aparece com uma frequencia superior aos demais elementos. É o único que aparece duas vezes na série, e isso o diferencia dos demais elementos. Portanto, a seria de dados relativa ao Peso tem moda e o valor dela é 63.\n",
    "\n",
    "**Variável Peso**\n",
    "\n",
    "Elementos | Frequência \n",
    "----------|-----------                               \n",
    "80        | 1  \n",
    "53        | 1  \n",
    "74,5      | 1  \n",
    "63        | 2  \n",
    "\n",
    "\n",
    "### Medidas de Dispersão\n",
    "\n",
    "Agora podemos dar início ao estudo das medidas de dispersão (ou variabilidade). \n",
    "\n",
    "As vezes apenas as medidas de posição (média, moda e mediana) não são suficientes para entendermos minimamente um conjunto de dados numa análise exploratória. Portanto, temos que utilizar as medidas de dispersão para entender melhor.\n",
    "\n",
    "Suponha as seguintes séries de dados:\n",
    "\n",
    "**Séries de dados diferentes, mas com valores iguais para a média**\n",
    "\n",
    "Série | Elementos          | Média\n",
    "------|--------------------|------\n",
    "A     | 9, 10, 11, 12, 13  | 11\n",
    "B     | 7, 9, 11, 13, 15   | 11\n",
    "C     | 11, 11, 11, 11, 11 | 11\n",
    "D     | 9, 11, 11, 13      | 11\n",
    "\n",
    "\n",
    "Perceba que apesar de serem séries diferentes de dados, as médias são iguais. Portanto, uma maneira de aumentar o conhecimento sobre esses dados, ou seja, de obter mais informações é conhecendo sua variabilidade e isso pode ser feito de várias maneiras, dentre as mais comuns temos as medidas de dispersão variância e desvio-padrão.\n",
    "\n",
    "#### Variância\n",
    "\n",
    "Por definição, a variância corresponde à relação entre o somatório dos quadrados das diferenças entre os elementos da série e sua média, e o número de observações da série. Para ficar mais didático, vamos à sua expressão:\n",
    "\n"
   ]
  },
  {
   "cell_type": "markdown",
   "metadata": {},
   "source": [
    "\\begin{equation}\n",
    "Var(X) = \\frac{\\sum_{i=1}^{n}(x_i - \\bar{x})^2}{n}\n",
    "\\end{equation}\n",
    "\n"
   ]
  },
  {
   "cell_type": "markdown",
   "metadata": {},
   "source": [
    "Vamos aplicar essa expressão da variância às séries de dados da tabela 3. Abaixo trago o cálculo para a série A.\n",
    "\n"
   ]
  },
  {
   "cell_type": "code",
   "execution_count": 11,
   "metadata": {},
   "outputs": [
    {
     "name": "stdout",
     "output_type": "stream",
     "text": [
      "A variância da série A é igual a  2.0\n"
     ]
    }
   ],
   "source": [
    "print(\"A variância da série A é igual a \",((9-11)**2+(10-11)**2+(11-11)**2+(12-11)**2+(13-11)**2)/5)\n",
    "\n",
    "\n"
   ]
  },
  {
   "cell_type": "markdown",
   "metadata": {},
   "source": [
    "##### Faça você mesmo!\n",
    "\n",
    "Replique a aplicação da fórmula para as demais séries da tabela 3. Verifique que a variância da série **D** é zero e explique porque isso acontece. Responda: existe variância negativa? pq?\n",
    "\n",
    "#### Desvio-Padrão\n",
    "\n",
    "Apesar de a variância ser uma boa medida de dispersão dos dados, o seu resultado apresenta sempre o quadrado de sua dimensão, isto é, de sua unidade de medida. Por exemplo, se a variância for calculada sobre uma séries de dados de peso de pessoas, o resultado será acompanhado da unidade $Kg^2$ e isso pode gerar um pouco de dificuldade de interpretação dos resultados e de possíveis comparações. \n",
    "\n",
    "Para contornar essa situação, podemos utilizar outra medida de dispersão, o **desvio-padrão**, que é exatamente a raiz quadrada da variância. Dessa forma, o problema da dimensão fica resolvido. Segue a expressão do desvio-padrão:\n",
    "\n"
   ]
  },
  {
   "cell_type": "markdown",
   "metadata": {},
   "source": [
    "\\begin{eqnarray}\n",
    "Dp(X) &=& \\sqrt{Var(X)} \\nonumber \\\\\n",
    "      &=& \\sqrt{\\frac{\\sum_{i=1}^{n}(x_i - \\bar{x})^2}{n}}\n",
    "\\end{eqnarray}\n",
    "\n"
   ]
  },
  {
   "cell_type": "markdown",
   "metadata": {},
   "source": [
    "##### Faça você mesmo!\n",
    "\n",
    "Calcule os desvios-padrão das séries contidas na tabela 3.\n",
    "\n",
    "#### Coeficiente de Variação\n",
    "\n",
    "Além de todas essas medidas, temos outra que combina duas das que já vimos aqui e que nos permite fazer comparações entre séries distintas, haja vista que está livre de qualquer unidade/dimensão. Trata-se de uma medida absoluta, o **coeficiente de variação**, que é definido da seguinte maneira:\n",
    "\n"
   ]
  },
  {
   "cell_type": "markdown",
   "metadata": {},
   "source": [
    "\\begin{equation}\n",
    "\tCV = \\frac{dp(X)}{\\bar{X}}\n",
    "\\end{equation}\n",
    "\n",
    "\n"
   ]
  },
  {
   "cell_type": "markdown",
   "metadata": {},
   "source": [
    "Ou seja, o coeficiente de variação (CV) corresponde à razão entre o desvio-padrão e a média. E porque é uma medida absoluta?\n",
    "\n",
    "Imagine uma série de dados sobre o peso (Kg) de alguns indivíduos. Suponha que dessa série temos uma média $\\bar{X}=85 kg$ e um desvio-padrão $dp(X)=5 kg$. Calculando o CV, temos:\n",
    "\n"
   ]
  },
  {
   "cell_type": "code",
   "execution_count": 13,
   "metadata": {},
   "outputs": [
    {
     "name": "stdout",
     "output_type": "stream",
     "text": [
      "O coeficiente de variação da variavel peso é igual a  17.0\n"
     ]
    }
   ],
   "source": [
    "print(\"O coeficiente de variação da variavel peso é igual a \",85./5)\n",
    "\n"
   ]
  },
  {
   "cell_type": "markdown",
   "metadata": {},
   "source": [
    "Perceba que na expressão acima, havia a unidade Kg tanto no numerador quanto no denominador. Se as duas grandezas tinham essa mesma unidade, ao final da divisão o resultado se apresenta de forma adimensional. \n",
    "\n",
    "##### Faça você mesmo!\n",
    "\n",
    "Calcule os CV's das séries de dados da tabela 3\n"
   ]
  }
 ],
 "metadata": {
  "kernelspec": {
   "display_name": "Python 3",
   "language": "python",
   "name": "python3"
  },
  "language_info": {
   "codemirror_mode": {
    "name": "ipython",
    "version": 3
   },
   "file_extension": ".py",
   "mimetype": "text/x-python",
   "name": "python",
   "nbconvert_exporter": "python",
   "pygments_lexer": "ipython3",
   "version": "3.6.5"
  }
 },
 "nbformat": 4,
 "nbformat_minor": 2
}
