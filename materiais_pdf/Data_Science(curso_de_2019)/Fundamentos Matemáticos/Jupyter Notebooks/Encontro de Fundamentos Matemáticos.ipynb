{
 "cells": [
  {
   "cell_type": "markdown",
   "metadata": {},
   "source": [
    "# Vetores, normas e distância euclidiana"
   ]
  },
  {
   "cell_type": "markdown",
   "metadata": {},
   "source": [
    "### Vetores\n",
    "\n",
    "Abordaremos vetores de uma forma bem pragmática e própria para a linguagem do *Data Science*. Nesse nosso framework, vetores são uma coleção de números em forma matricial, sendo que estamos falando de uma matriz de várias linhas e uma coluna ou uma matriz de várias colunas e uma linha (o que não importa muito quando estamos mexendo no Python), algo como uma lista numérica da forma $x=(2,1,-9,0)$.\n",
    "\n",
    "É importante dizer que a ordem dos números dentro do vetor tem grande importância e que se a ordem dos elementos forem mudada, teremos um novo vetor. Para ver mais sobre a teoria de vetores, entre na nossa apostila e baixe nosso Jupyter Notebook de Álgebra Linear aqui: https://goo.gl/Dz9Dfu. Para criar um vetor no Python criamos uma lista e transformamos essa lista em um Numpy Array:"
   ]
  },
  {
   "cell_type": "code",
   "execution_count": 3,
   "metadata": {
    "collapsed": true
   },
   "outputs": [],
   "source": [
    "import numpy as np"
   ]
  },
  {
   "cell_type": "code",
   "execution_count": 13,
   "metadata": {},
   "outputs": [
    {
     "name": "stdout",
     "output_type": "stream",
     "text": [
      "<class 'list'>\n",
      "<class 'numpy.ndarray'>\n"
     ]
    }
   ],
   "source": [
    "#Criando lista\n",
    "x=[1,4,2,9]\n",
    "print(type(x))\n",
    "\n",
    "#Convertendo\n",
    "x=np.array(x)\n",
    "print(type(x)) #já temos um vetor criado"
   ]
  },
  {
   "cell_type": "code",
   "execution_count": 14,
   "metadata": {},
   "outputs": [
    {
     "name": "stdout",
     "output_type": "stream",
     "text": [
      "[1 4 2 9]\n"
     ]
    }
   ],
   "source": [
    "#Printando Vetor\n",
    "print(x)"
   ]
  },
  {
   "cell_type": "code",
   "execution_count": 15,
   "metadata": {},
   "outputs": [
    {
     "name": "stdout",
     "output_type": "stream",
     "text": [
      "(4,)\n"
     ]
    }
   ],
   "source": [
    "#Verificando o \"shape\"\n",
    "print(x.shape) #O vetor \"x\" tem tamanho 4"
   ]
  },
  {
   "cell_type": "markdown",
   "metadata": {},
   "source": [
    "### Adição e subtração de vetores\n",
    "\n",
    "Quando queremos somar dois vetores basta somarmos elemento por elemento. Assuma $x=(x_1,x_2,...,x_k)$ e $y=(y_1,y_2,...,y_k)$. Logo, se $x+y=z$, então $x_{i}+y_{i}=z_{i}$. Por outro lado, se $x-y=z$, então $x_{i}-y_{i}=z_{i}$. Pela definição de adição e subtração, temos que os vetores $x$ e $y$ devem ter a mesma ordem $n X 1$ ou $1 X n$.\n",
    "\n",
    "Ou seja, se $x=(1,0,-3)$ e $y=(-1,5,10)$, então $x+y=(0,5,7)$."
   ]
  },
  {
   "cell_type": "code",
   "execution_count": 48,
   "metadata": {},
   "outputs": [
    {
     "name": "stdout",
     "output_type": "stream",
     "text": [
      "[0 5 7]\n",
      "[  2  -5 -13]\n"
     ]
    }
   ],
   "source": [
    "#Criando vetores\n",
    "x=np.array([1,0,-3])\n",
    "y=np.array([-1,5,10])\n",
    "\n",
    "#Somando\n",
    "z=x+y\n",
    "print(z)\n",
    "\n",
    "#Subtraindo\n",
    "c=x-y\n",
    "print(c)"
   ]
  },
  {
   "cell_type": "markdown",
   "metadata": {},
   "source": [
    "### Produto por um escalar\n",
    "\n",
    "Quando queremos multiplicar matrizes (incluindo vetores na forma matricial) por um escalar $\\alpha$, basta multiplicarmos todos os elementos da matriz pelo escalar. Ou seja, se $z=\\alpha x$ então, $z_{i}=\\alpha x_{i}$.\n",
    "\n",
    "Ou seja, se $x=(1,0,-3)$ e $\\alpha=2$, então $\\alpha x=(2,0,-6)$."
   ]
  },
  {
   "cell_type": "code",
   "execution_count": 50,
   "metadata": {},
   "outputs": [
    {
     "name": "stdout",
     "output_type": "stream",
     "text": [
      "[ 2  0 -6]\n"
     ]
    }
   ],
   "source": [
    "alpha=2\n",
    "print(alpha*x)"
   ]
  },
  {
   "cell_type": "markdown",
   "metadata": {},
   "source": [
    "### Norma de um vetor\n",
    "\n",
    "A norma (euclidiana) de um vetor é basicamente o seu comprimento e pode ser calculada com uma fórmula específica. Se $x=(x_1,x_2,...,x_k)$ então a norma de  $x$ é dada por $||x||=\\sqrt{x_1^2+x_2^2+...+x_k^2}$.\n",
    "\n",
    "Ou seja, se $x=(1,0,-3)$ então $||x||=\\sqrt{1^2+0^2+(-3)^2}=\\sqrt{10}$."
   ]
  },
  {
   "cell_type": "code",
   "execution_count": 59,
   "metadata": {},
   "outputs": [
    {
     "name": "stdout",
     "output_type": "stream",
     "text": [
      "3.1622776601683795\n"
     ]
    }
   ],
   "source": [
    "#Usando uma função que calcula a norma\n",
    "print(np.linalg.norm(x)) "
   ]
  },
  {
   "cell_type": "markdown",
   "metadata": {},
   "source": [
    "### Distância entre dois vetores\n",
    "\n",
    "A distância entre dois vetores $x$ e $y$  é dado pela fórmula $||x-y||=||y-x||$.\n",
    "\n",
    "Ou seja, se $x=(1,0,-3)$ e $y=(-1,5,10)$ então a distância entre os dois vetores é \n",
    "\n",
    "$||x-y||=||y-x||=\\sqrt{(-1-1)^2+(5-0)^2+(10-(-3))^2}=\\sqrt{198}$."
   ]
  },
  {
   "cell_type": "code",
   "execution_count": 58,
   "metadata": {},
   "outputs": [
    {
     "name": "stdout",
     "output_type": "stream",
     "text": [
      "14.071247279470288\n"
     ]
    }
   ],
   "source": [
    "#Usando uma função que calcula a norma\n",
    "print(np.linalg.norm(x-y)) "
   ]
  },
  {
   "cell_type": "markdown",
   "metadata": {},
   "source": [
    "## Exercícios\n",
    "\n",
    "1) Crie uma função que calcula a norma de um vetor.\n",
    "\n",
    "2) Crie uma função que calcula a distância entre dois vetores.\n",
    "\n",
    "3) Pegue o vetor $x$ definido anteriormente e compare com todas as linhas da matriz A (considere cada linha da matriz como sendo um vetor diferente) definida como (copie e cole o código abaixo em uma célula):\n",
    "\n",
    "A=np.array([[1,-2,0],[4,2,10],[10,-3,1],[1,1,1]])\n",
    "\n",
    "Construa um código que dê as distâncias entre o vetor $x$ e as linhas de A. Ademais, o código deve ranquear as linhas conforme sua proximidade com $x$.\n",
    "\n",
    "4) Use a célula abaixo para importar o dataset da Iris. Pegue sua primeira linha e compare com todas as outras conforme o exercício anterior (use somente as quatro primeiras colunas). Compare a espécie da planta de acordo com as distâncias."
   ]
  },
  {
   "cell_type": "code",
   "execution_count": 62,
   "metadata": {
    "collapsed": true
   },
   "outputs": [],
   "source": [
    "import pandas as pd\n",
    "\n",
    "iris = 'http://archive.ics.uci.edu/ml/machine-learning-databases/iris/iris.data'\n",
    "df = pd.read_csv(iris, sep=',',header=None)"
   ]
  },
  {
   "cell_type": "code",
   "execution_count": null,
   "metadata": {
    "collapsed": true
   },
   "outputs": [],
   "source": []
  }
 ],
 "metadata": {
  "kernelspec": {
   "display_name": "Python 3",
   "language": "python",
   "name": "python3"
  },
  "language_info": {
   "codemirror_mode": {
    "name": "ipython",
    "version": 3
   },
   "file_extension": ".py",
   "mimetype": "text/x-python",
   "name": "python",
   "nbconvert_exporter": "python",
   "pygments_lexer": "ipython3",
   "version": "3.5.2"
  }
 },
 "nbformat": 4,
 "nbformat_minor": 2
}
