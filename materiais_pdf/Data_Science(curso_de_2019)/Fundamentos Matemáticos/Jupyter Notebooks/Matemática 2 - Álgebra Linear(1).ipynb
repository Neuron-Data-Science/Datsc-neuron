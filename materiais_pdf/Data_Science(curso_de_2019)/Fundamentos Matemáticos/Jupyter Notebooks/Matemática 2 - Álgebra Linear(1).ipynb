{
 "cells": [
  {
   "cell_type": "markdown",
   "metadata": {},
   "source": [
    "# Álgebra Linear na prática"
   ]
  },
  {
   "cell_type": "markdown",
   "metadata": {},
   "source": [
    "Para a parte de Álgebra Linear usaremos principalmente dois pacotes do Python: (i) Numpy e (ii) Scikit Learn. O Numpy será muito usado para implementar os conceitos mais fundamentais de Álgebra Linear. Para verificar os comandos do Numpy associados à Álgebra Linear, acessar: https://docs.scipy.org/doc/numpy-1.13.0/reference/routines.linalg.html. "
   ]
  },
  {
   "cell_type": "markdown",
   "metadata": {},
   "source": [
    "## Criando vetores e matrizes no Python\n",
    "\n",
    "Para criar vetores e matrizes no Python basta criar listas e depois convertê-las para Numpy Arrays:"
   ]
  },
  {
   "cell_type": "code",
   "execution_count": 1,
   "metadata": {
    "collapsed": true
   },
   "outputs": [],
   "source": [
    "import numpy as np"
   ]
  },
  {
   "cell_type": "markdown",
   "metadata": {},
   "source": [
    "Vetores:"
   ]
  },
  {
   "cell_type": "code",
   "execution_count": 2,
   "metadata": {},
   "outputs": [
    {
     "name": "stdout",
     "output_type": "stream",
     "text": [
      "<class 'list'>\n",
      "<class 'numpy.ndarray'>\n"
     ]
    }
   ],
   "source": [
    "#Criando lista\n",
    "x=[1,4,2,9]\n",
    "print(type(x))\n",
    "\n",
    "#Convertendo\n",
    "x=np.array(x)\n",
    "print(type(x)) #já temos um vetor criado"
   ]
  },
  {
   "cell_type": "code",
   "execution_count": 3,
   "metadata": {},
   "outputs": [
    {
     "name": "stdout",
     "output_type": "stream",
     "text": [
      "[1 4 2 9]\n"
     ]
    }
   ],
   "source": [
    "#Printando Vetor\n",
    "print(x)"
   ]
  },
  {
   "cell_type": "code",
   "execution_count": 4,
   "metadata": {},
   "outputs": [
    {
     "name": "stdout",
     "output_type": "stream",
     "text": [
      "(4,)\n"
     ]
    }
   ],
   "source": [
    "#Verificando o \"shape\"\n",
    "print(x.shape) #O vetor \"x\" tem tamanho 4"
   ]
  },
  {
   "cell_type": "code",
   "execution_count": 5,
   "metadata": {},
   "outputs": [
    {
     "name": "stdout",
     "output_type": "stream",
     "text": [
      "<class 'numpy.ndarray'>\n"
     ]
    }
   ],
   "source": [
    "print(type(np.r_[1,2,3]))"
   ]
  },
  {
   "cell_type": "markdown",
   "metadata": {},
   "source": [
    "Matrizes:"
   ]
  },
  {
   "cell_type": "code",
   "execution_count": 6,
   "metadata": {},
   "outputs": [
    {
     "name": "stdout",
     "output_type": "stream",
     "text": [
      "<class 'list'>\n",
      "<class 'numpy.ndarray'>\n"
     ]
    }
   ],
   "source": [
    "#Para criar matrizes é necessário criar listas dentro da lista principal,\n",
    "#sendo que cada lista interna representa uma linha da matriz.\n",
    "\n",
    "#Criando lista\n",
    "A=[[1,4,2],[6,2,8],[3,7,7],[3,4,2]]\n",
    "print(type(A))\n",
    "\n",
    "#Convertendo\n",
    "A=np.array(A)\n",
    "print(type(A)) #já temos um vetor criado"
   ]
  },
  {
   "cell_type": "code",
   "execution_count": 7,
   "metadata": {},
   "outputs": [
    {
     "name": "stdout",
     "output_type": "stream",
     "text": [
      "[[1 4 2]\n",
      " [6 2 8]\n",
      " [3 7 7]\n",
      " [3 4 2]]\n"
     ]
    }
   ],
   "source": [
    "#Printando Matriz\n",
    "print(A)"
   ]
  },
  {
   "cell_type": "code",
   "execution_count": 8,
   "metadata": {},
   "outputs": [
    {
     "name": "stdout",
     "output_type": "stream",
     "text": [
      "(4, 3)\n"
     ]
    }
   ],
   "source": [
    "#Verificando o \"shape\"\n",
    "print(A.shape) #\"A\" tem 4 linhas e 3 colunas"
   ]
  },
  {
   "cell_type": "markdown",
   "metadata": {},
   "source": [
    "Selecionando colunas e linhas específicas da matriz A:"
   ]
  },
  {
   "cell_type": "code",
   "execution_count": 9,
   "metadata": {},
   "outputs": [
    {
     "name": "stdout",
     "output_type": "stream",
     "text": [
      "[1 4 2]\n"
     ]
    }
   ],
   "source": [
    "print(A[0,:])"
   ]
  },
  {
   "cell_type": "code",
   "execution_count": 10,
   "metadata": {},
   "outputs": [
    {
     "name": "stdout",
     "output_type": "stream",
     "text": [
      "[2 8 7 2]\n"
     ]
    }
   ],
   "source": [
    "print(A[:,2])"
   ]
  },
  {
   "cell_type": "code",
   "execution_count": 11,
   "metadata": {},
   "outputs": [
    {
     "name": "stdout",
     "output_type": "stream",
     "text": [
      "[[4 2]\n",
      " [2 8]]\n"
     ]
    }
   ],
   "source": [
    "print(A[:2,1:])"
   ]
  },
  {
   "cell_type": "markdown",
   "metadata": {},
   "source": [
    "Criando alguns vetores e matrizes específicos:"
   ]
  },
  {
   "cell_type": "code",
   "execution_count": 12,
   "metadata": {},
   "outputs": [
    {
     "name": "stdout",
     "output_type": "stream",
     "text": [
      "[1. 1. 1.]\n",
      "[0. 0. 0.]\n"
     ]
    }
   ],
   "source": [
    "x = np.ones(3)  #vetor somente composto de \"uns\"\n",
    "y = np.zeros(3) #vetor somente composto de \"zeros\"\n",
    "\n",
    "print(x)\n",
    "print(y)"
   ]
  },
  {
   "cell_type": "code",
   "execution_count": 13,
   "metadata": {},
   "outputs": [
    {
     "name": "stdout",
     "output_type": "stream",
     "text": [
      "[[1. 1. 1.]\n",
      " [1. 1. 1.]]\n",
      "[[0. 0. 0.]\n",
      " [0. 0. 0.]]\n"
     ]
    }
   ],
   "source": [
    "A = np.ones((2,3))  #matriz (2x3) somente composto de \"uns\"\n",
    "B = np.zeros((2,3)) #matriz (2x3) somente composto de \"zeros\"\n",
    "\n",
    "print(A)\n",
    "print(B)"
   ]
  },
  {
   "cell_type": "markdown",
   "metadata": {},
   "source": [
    "## Operações com matrizes e vetores"
   ]
  },
  {
   "cell_type": "markdown",
   "metadata": {},
   "source": [
    "Soma e subtração:"
   ]
  },
  {
   "cell_type": "code",
   "execution_count": 14,
   "metadata": {},
   "outputs": [
    {
     "name": "stdout",
     "output_type": "stream",
     "text": [
      "[3 5 5 9]\n",
      "[-1  3 -1  9]\n"
     ]
    }
   ],
   "source": [
    "x=np.array([1,4,2,9])\n",
    "y=np.array([2,1,3,0])\n",
    "\n",
    "print(x+y)\n",
    "print(x-y)"
   ]
  },
  {
   "cell_type": "markdown",
   "metadata": {},
   "source": [
    "Produto por um escalar $\\alpha$:"
   ]
  },
  {
   "cell_type": "code",
   "execution_count": 15,
   "metadata": {},
   "outputs": [
    {
     "name": "stdout",
     "output_type": "stream",
     "text": [
      "[1 4 2 9]\n",
      "[ 2  8  4 18]\n"
     ]
    }
   ],
   "source": [
    "x=np.array([1,4,2,9])\n",
    "alpha=2\n",
    "\n",
    "print(x)\n",
    "print(alpha*x)"
   ]
  },
  {
   "cell_type": "markdown",
   "metadata": {},
   "source": [
    "Transposição:"
   ]
  },
  {
   "cell_type": "code",
   "execution_count": 16,
   "metadata": {},
   "outputs": [
    {
     "name": "stdout",
     "output_type": "stream",
     "text": [
      "[[1 4 2]\n",
      " [6 2 8]]\n"
     ]
    }
   ],
   "source": [
    "A=np.array([[1,4,2],[6,2,8]])\n",
    "print(A)"
   ]
  },
  {
   "cell_type": "code",
   "execution_count": 17,
   "metadata": {},
   "outputs": [
    {
     "name": "stdout",
     "output_type": "stream",
     "text": [
      "[[1 6]\n",
      " [4 2]\n",
      " [2 8]]\n"
     ]
    }
   ],
   "source": [
    "print(A.T) #transposta: colocar \".T\" no fim"
   ]
  },
  {
   "cell_type": "markdown",
   "metadata": {},
   "source": [
    "Produto de matrizes:"
   ]
  },
  {
   "cell_type": "code",
   "execution_count": 18,
   "metadata": {
    "collapsed": true
   },
   "outputs": [],
   "source": [
    "A=np.array([[1,4,2],[6,2,8]])\n",
    "B=np.array([[3,7,7],[3,4,2]])"
   ]
  },
  {
   "cell_type": "code",
   "execution_count": 19,
   "metadata": {},
   "outputs": [
    {
     "ename": "ValueError",
     "evalue": "shapes (2,3) and (2,3) not aligned: 3 (dim 1) != 2 (dim 0)",
     "output_type": "error",
     "traceback": [
      "\u001b[1;31m---------------------------------------------------------------------------\u001b[0m",
      "\u001b[1;31mValueError\u001b[0m                                Traceback (most recent call last)",
      "\u001b[1;32m<ipython-input-19-1b89ae520c8c>\u001b[0m in \u001b[0;36m<module>\u001b[1;34m()\u001b[0m\n\u001b[0;32m      1\u001b[0m \u001b[1;31m#vai dar erro, pois as ordens das matrizes não são compatíveis\u001b[0m\u001b[1;33m\u001b[0m\u001b[1;33m\u001b[0m\u001b[0m\n\u001b[1;32m----> 2\u001b[1;33m \u001b[0mC\u001b[0m\u001b[1;33m=\u001b[0m\u001b[0mnp\u001b[0m\u001b[1;33m.\u001b[0m\u001b[0mmatmul\u001b[0m\u001b[1;33m(\u001b[0m\u001b[0mA\u001b[0m\u001b[1;33m,\u001b[0m\u001b[0mB\u001b[0m\u001b[1;33m)\u001b[0m\u001b[1;33m\u001b[0m\u001b[0m\n\u001b[0m",
      "\u001b[1;31mValueError\u001b[0m: shapes (2,3) and (2,3) not aligned: 3 (dim 1) != 2 (dim 0)"
     ]
    }
   ],
   "source": [
    "#vai dar erro, pois as ordens das matrizes não são compatíveis\n",
    "C=np.matmul(A,B)"
   ]
  },
  {
   "cell_type": "code",
   "execution_count": 20,
   "metadata": {},
   "outputs": [
    {
     "name": "stdout",
     "output_type": "stream",
     "text": [
      "[[45 23]\n",
      " [88 42]]\n"
     ]
    }
   ],
   "source": [
    "#usando a transposta de B (B.T)\n",
    "C=np.matmul(A,B.T)\n",
    "print(C)"
   ]
  },
  {
   "cell_type": "code",
   "execution_count": 21,
   "metadata": {},
   "outputs": [
    {
     "name": "stdout",
     "output_type": "stream",
     "text": [
      "[[45 23]\n",
      " [88 42]]\n"
     ]
    }
   ],
   "source": [
    "#Outra maneira\n",
    "C=A.dot(B.T)\n",
    "print(C)"
   ]
  },
  {
   "cell_type": "markdown",
   "metadata": {},
   "source": [
    "Produto elemento a elemento (_element wise product_)"
   ]
  },
  {
   "cell_type": "code",
   "execution_count": 22,
   "metadata": {},
   "outputs": [
    {
     "name": "stdout",
     "output_type": "stream",
     "text": [
      "[2 4 6 0]\n"
     ]
    }
   ],
   "source": [
    "x=np.array([1,4,2,9])\n",
    "y=np.array([2,1,3,0])\n",
    "\n",
    "print(x*y)"
   ]
  },
  {
   "cell_type": "markdown",
   "metadata": {},
   "source": [
    "### Exercício 1:\n",
    "\n",
    "Crie uma função que retorne a norma euclidiana de um vetor **x** usando um loop e nenhuma multiplicação de matrizes. Sua função deve dizer ao usuário se ele não introduzir um outro objeto que não um vetor na hora de usar sua função."
   ]
  },
  {
   "cell_type": "code",
   "execution_count": 23,
   "metadata": {
    "collapsed": true
   },
   "outputs": [],
   "source": [
    "# escreva seu código aqui"
   ]
  },
  {
   "cell_type": "markdown",
   "metadata": {},
   "source": [
    "### Exercício 2:\n",
    "\n",
    "Crie uma função que retorne a norma euclidiana de um vetor **x** usando nenhum loop e uma multiplicação de matrizes. Sua função deve dizer ao usuário se ele não introduzir um outro objeto que não um vetor na hora de usar sua função."
   ]
  },
  {
   "cell_type": "code",
   "execution_count": 24,
   "metadata": {
    "collapsed": true
   },
   "outputs": [],
   "source": [
    "# escreva seu código aqui"
   ]
  },
  {
   "cell_type": "markdown",
   "metadata": {},
   "source": [
    "## Produto Escalar e Norma Euclidiana\n",
    "\n",
    "Ao contrário do que foi feito por você nos exercícios anteriores, usaremos comandos do Numpy para calcular o que precisamos."
   ]
  },
  {
   "cell_type": "code",
   "execution_count": 25,
   "metadata": {
    "collapsed": true
   },
   "outputs": [],
   "source": [
    "x=np.array([1,4,2,9])\n",
    "y=np.array([2,1,3,0])"
   ]
  },
  {
   "cell_type": "markdown",
   "metadata": {},
   "source": [
    "Diferentes maneira de se calcular o produto escalar:"
   ]
  },
  {
   "cell_type": "code",
   "execution_count": 26,
   "metadata": {},
   "outputs": [
    {
     "name": "stdout",
     "output_type": "stream",
     "text": [
      "Produto 1=12\n",
      "Produto 2=12\n",
      "Produto 3=12\n",
      "Produto 4=12\n"
     ]
    }
   ],
   "source": [
    "#Maneira 1\n",
    "n=x.shape[0]\n",
    "p=0\n",
    "for i in range(n):\n",
    "    p=p+x[i]*y[i]\n",
    "print(\"Produto 1=\"+str(p))\n",
    "\n",
    "#Maneira 2\n",
    "p=sum(x*y)\n",
    "print(\"Produto 2=\"+str(p))\n",
    "\n",
    "#Maneira 3\n",
    "p=np.matmul(x,y)\n",
    "print(\"Produto 3=\"+str(p))\n",
    "\n",
    "#Maneira 4\n",
    "p=np.inner(x,y)\n",
    "print(\"Produto 4=\"+str(p))"
   ]
  },
  {
   "cell_type": "markdown",
   "metadata": {},
   "source": [
    "Norma euclidiana (comparar com a função feita por você):"
   ]
  },
  {
   "cell_type": "code",
   "execution_count": 27,
   "metadata": {},
   "outputs": [
    {
     "data": {
      "text/plain": [
       "10.099504938362077"
      ]
     },
     "execution_count": 27,
     "metadata": {},
     "output_type": "execute_result"
    }
   ],
   "source": [
    "np.linalg.norm(x)   "
   ]
  },
  {
   "cell_type": "markdown",
   "metadata": {},
   "source": [
    "## Distâncias entre vetores"
   ]
  },
  {
   "cell_type": "code",
   "execution_count": 28,
   "metadata": {
    "collapsed": true
   },
   "outputs": [],
   "source": [
    "x=np.array([1,4,2,9])\n",
    "y=np.array([2,1,3,0])"
   ]
  },
  {
   "cell_type": "markdown",
   "metadata": {},
   "source": [
    "Distância Euclidiana:"
   ]
  },
  {
   "cell_type": "code",
   "execution_count": 29,
   "metadata": {},
   "outputs": [
    {
     "name": "stdout",
     "output_type": "stream",
     "text": [
      "9.591663046625438\n"
     ]
    }
   ],
   "source": [
    "#Para calcular a distância eudlidiana entre dois vetores \n",
    "#basta calcular a norma euclidiana da diferença desses vetores\n",
    "\n",
    "def dist_euclid(a,b):\n",
    "    return np.linalg.norm(a-b)  \n",
    "\n",
    "print(dist_euclid(x,y))"
   ]
  },
  {
   "cell_type": "markdown",
   "metadata": {},
   "source": [
    "### Exercício 3:\n",
    "\n",
    "Crie uma função que retorne ou a Distância Manhatann ou Distância Euclidiana entre dois vetores, dependendo da opção do usuário da sua função."
   ]
  },
  {
   "cell_type": "markdown",
   "metadata": {},
   "source": [
    "Distância de Mahalanobis:"
   ]
  },
  {
   "cell_type": "code",
   "execution_count": 30,
   "metadata": {},
   "outputs": [
    {
     "name": "stdout",
     "output_type": "stream",
     "text": [
      "[[2 3 1]\n",
      " [5 3 1]\n",
      " [4 2 6]\n",
      " [3 5 7]\n",
      " [2 7 3]]\n"
     ]
    }
   ],
   "source": [
    "#Iserindo uma base de dados\n",
    "#As linhas são indivíduos e as colunas são variáveis\n",
    "\n",
    "data=np.array([[2,3,1],[5,3,1],[4,2,6],[3,5,7],[2,7,3]])\n",
    "print(data)"
   ]
  },
  {
   "cell_type": "code",
   "execution_count": 31,
   "metadata": {},
   "outputs": [
    {
     "name": "stdout",
     "output_type": "stream",
     "text": [
      "[[ 1.7 -1.5  0.1]\n",
      " [-1.5  4.   0.5]\n",
      " [ 0.1  0.5  7.8]]\n"
     ]
    }
   ],
   "source": [
    "#Calculando a matriz de Covariância entre as variáveis\n",
    "#Perceba que a matriz é simétrica\n",
    "Cov=np.cov(data.T)\n",
    "print(Cov)"
   ]
  },
  {
   "cell_type": "code",
   "execution_count": 32,
   "metadata": {},
   "outputs": [
    {
     "name": "stdout",
     "output_type": "stream",
     "text": [
      "[[ 1.00000000e+00 -1.69135539e-17  5.20417043e-18]\n",
      " [-2.63677968e-16  1.00000000e+00  0.00000000e+00]\n",
      " [ 0.00000000e+00 -2.77555756e-17  1.00000000e+00]]\n"
     ]
    }
   ],
   "source": [
    "#Invertendo a matriz de covariância\n",
    "Inv_cov=np.linalg.inv(Cov)\n",
    "\n",
    "#Perceba que chegamos à matriz identidade\n",
    "print(np.matmul(Cov,Inv_cov))"
   ]
  },
  {
   "cell_type": "code",
   "execution_count": 33,
   "metadata": {},
   "outputs": [
    {
     "name": "stdout",
     "output_type": "stream",
     "text": [
      "Euclidiana=5.196152422706632, Mahalanobis=5.944908366314066\n"
     ]
    }
   ],
   "source": [
    "#Calculando a distância do indivíduo 1 ou 2\n",
    "d=data[1,:].dot(Inv_cov).dot(data[1,:].T)\n",
    "d=d**(1/2)\n",
    "\n",
    "print(\"Euclidiana=\"+str(dist_euclid(data[1,:],data[2,:]))+\", Mahalanobis=\"+str(d))"
   ]
  },
  {
   "cell_type": "markdown",
   "metadata": {},
   "source": [
    "### Exercício 4:\n",
    "\n",
    "Use a base de dados criada (data) e crie uma função que retorne uma matriz de distâncias euclidianas - essa matriz de distâncias deve ser quadrada e a entrada _(i,j)_ deve conter a distância do indivíduo _i_ ao indivíduo _j_. Perceba que a matriz deve ser simétrica e sua diagonal principal deve ser nula. **Dica**: evite usar loops e tente apenas usar multiplicações de matrizes."
   ]
  },
  {
   "cell_type": "code",
   "execution_count": 34,
   "metadata": {
    "collapsed": true
   },
   "outputs": [],
   "source": [
    "# escreva seu código aqui"
   ]
  },
  {
   "cell_type": "markdown",
   "metadata": {},
   "source": [
    "### Exercício 5:\n",
    "\n",
    "Use a base de dados criada (data) e crie uma função que retorne uma matriz de distâncias de Mahalanobis - essa matriz de distâncias deve ser quadrada e a entrada _(i,j)_ deve conter a distância do indivíduo _i_ ao indivíduo _j_. Perceba que a matriz deve ser simétrica e sua diagonal principal deve ser nula. **Dica**: evite usar loops e tente apenas usar multiplicações de matrizes."
   ]
  },
  {
   "cell_type": "code",
   "execution_count": 35,
   "metadata": {
    "collapsed": true
   },
   "outputs": [],
   "source": [
    "# escreva seu código aqui"
   ]
  }
 ],
 "metadata": {
  "kernelspec": {
   "display_name": "Python 3",
   "language": "python",
   "name": "python3"
  },
  "language_info": {
   "codemirror_mode": {
    "name": "ipython",
    "version": 3
   },
   "file_extension": ".py",
   "mimetype": "text/x-python",
   "name": "python",
   "nbconvert_exporter": "python",
   "pygments_lexer": "ipython3",
   "version": "3.5.2"
  }
 },
 "nbformat": 4,
 "nbformat_minor": 2
}
